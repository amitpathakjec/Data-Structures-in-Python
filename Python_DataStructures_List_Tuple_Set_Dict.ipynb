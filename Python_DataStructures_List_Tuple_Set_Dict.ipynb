{
  "nbformat": 4,
  "nbformat_minor": 0,
  "metadata": {
    "colab": {
      "name": "Python_DataStructures_List/Tuple/Set/Dict.ipynb",
      "provenance": [],
      "authorship_tag": "ABX9TyNIkjRVset/h/pYzn8Uvl5K",
      "include_colab_link": true
    },
    "kernelspec": {
      "display_name": "Python 3",
      "name": "python3"
    },
    "language_info": {
      "name": "python"
    }
  },
  "cells": [
    {
      "cell_type": "markdown",
      "metadata": {
        "id": "view-in-github",
        "colab_type": "text"
      },
      "source": [
        "<a href=\"https://colab.research.google.com/github/amitpathakjec/Data-Structures-in-Python/blob/master/Python_DataStructures_List_Tuple_Set_Dict.ipynb\" target=\"_parent\"><img src=\"https://colab.research.google.com/assets/colab-badge.svg\" alt=\"Open In Colab\"/></a>"
      ]
    },
    {
      "cell_type": "markdown",
      "metadata": {
        "id": "exsReFVENkBh"
      },
      "source": [
        "**List**"
      ]
    },
    {
      "cell_type": "code",
      "metadata": {
        "colab": {
          "base_uri": "https://localhost:8080/"
        },
        "id": "XAUDKcnGWnkY",
        "outputId": "90ff3704-92e1-4644-bcc8-8567c98329dc"
      },
      "source": [
        "L = list(range(10,101,10))\n",
        "print(L)\n",
        "\n",
        "# Indexing \n",
        "print(L[8])\n",
        "print(L[-2])\n",
        "\n",
        "print()\n",
        "\n",
        "# Slicing\n",
        "print(L[1:5])\n",
        "print(L[1:5:2])\n",
        "print(L[4::2])\n",
        "print(L[8:2:-1])\n",
        "print(L[4:100])\n",
        "print(L[::])"
      ],
      "execution_count": null,
      "outputs": [
        {
          "name": "stdout",
          "output_type": "stream",
          "text": [
            "[10, 20, 30, 40, 50, 60, 70, 80, 90, 100]\n",
            "90\n",
            "90\n",
            "\n",
            "[20, 30, 40, 50]\n",
            "[20, 40]\n",
            "[50, 70, 90]\n",
            "[90, 80, 70, 60, 50, 40]\n",
            "[50, 60, 70, 80, 90, 100]\n",
            "[10, 20, 30, 40, 50, 60, 70, 80, 90, 100]\n"
          ]
        }
      ]
    },
    {
      "cell_type": "code",
      "metadata": {
        "colab": {
          "base_uri": "https://localhost:8080/"
        },
        "id": "AtrMDQKaNnju",
        "outputId": "ddbd3fdc-1560-4216-afa7-e6c340f9f3ed"
      },
      "source": [
        "l = [10,20,30,40,50,60,70,80,90,100]\n",
        "\n",
        "i = 0\n",
        "while i<5:\n",
        "  print(l[i], end = ' ')\n",
        "  i = i+1 \n",
        "\n",
        "print()\n",
        "\n",
        "for x in l:\n",
        "  if x%25 == 0:\n",
        "    print(x, end = ' ')\n",
        "\n",
        "for i in range(len(l)):\n",
        "  print('Element at positive index {} and negative index {} is {}'.format(i,len(l)-i,l[i]))\n"
      ],
      "execution_count": null,
      "outputs": [
        {
          "name": "stdout",
          "output_type": "stream",
          "text": [
            "10 20 30 40 50 \n",
            "50 100 Element at positive index 0 and negative index 10 is 10\n",
            "Element at positive index 1 and negative index 9 is 20\n",
            "Element at positive index 2 and negative index 8 is 30\n",
            "Element at positive index 3 and negative index 7 is 40\n",
            "Element at positive index 4 and negative index 6 is 50\n",
            "Element at positive index 5 and negative index 5 is 60\n",
            "Element at positive index 6 and negative index 4 is 70\n",
            "Element at positive index 7 and negative index 3 is 80\n",
            "Element at positive index 8 and negative index 2 is 90\n",
            "Element at positive index 9 and negative index 1 is 100\n"
          ]
        }
      ]
    },
    {
      "cell_type": "code",
      "metadata": {
        "colab": {
          "base_uri": "https://localhost:8080/"
        },
        "id": "yf_egstJaJIQ",
        "outputId": "ea541220-2e5a-438d-e492-0bd6eb2401ae"
      },
      "source": [
        "# Operator for lists'\n",
        "\n",
        "# Concatination\n",
        "l1 = [10,20,30]\n",
        "l2 = [40,50,60]\n",
        "l3 = l1+l2\n",
        "print(l3)\n",
        "\n",
        "# Repitation operator\n",
        "l1 = [10,20,30]\n",
        "l2 = l1*2\n",
        "print(l2)\n",
        "\n",
        "# Equality operator\n",
        "l1 = ['a','b','c']\n",
        "l2 = ['a','b','c']\n",
        "l3 = ['A','B','C']\n",
        "l4 = ['b','a','c']\n",
        "\n",
        "print(l1 == l2)\n",
        "print(l1 == l3)\n",
        "print(l1 == l4)\n",
        "\n",
        "print()\n",
        "# Relational operator\n",
        "l1 = [50,60]\n",
        "l2 = [10,20,30,40]\n",
        "print(l1>l2)\n",
        "print(l1>=l2)\n",
        "print(l1<l2)\n",
        "print(l1<=l2)\n",
        "\n",
        "print()\n",
        "l1 = ['Amit','Neelesh']\n",
        "l2 = ['Amit','Nilesh']\n",
        "print(l1>l2)\n",
        "\n",
        "print()\n",
        "# Membership operator\n",
        "L = [10,20,30,40,50]\n",
        "print(60 not in L)\n",
        "print(10 in L)"
      ],
      "execution_count": null,
      "outputs": [
        {
          "name": "stdout",
          "output_type": "stream",
          "text": [
            "[10, 20, 30, 40, 50, 60]\n",
            "[10, 20, 30, 10, 20, 30]\n",
            "True\n",
            "False\n",
            "False\n",
            "\n",
            "True\n",
            "True\n",
            "False\n",
            "False\n",
            "\n",
            "False\n",
            "\n",
            "True\n",
            "True\n"
          ]
        }
      ]
    },
    {
      "cell_type": "code",
      "metadata": {
        "colab": {
          "base_uri": "https://localhost:8080/"
        },
        "id": "Ew2Aai-Yhgno",
        "outputId": "b8c36362-7fb2-4fdb-dd5a-89a73d0c0f52"
      },
      "source": [
        "## Functions and methods related to list:\n",
        "l = [10,20,30,40,50,60,10,20,30,40,10,20,30,10,20]\n",
        "print(l.append(100))\n",
        "print(l.remove(20))\n",
        "print(l.count(10))\n",
        "print(l.index(30))\n",
        "print(sorted(l))\n",
        "print(len(l))\n"
      ],
      "execution_count": null,
      "outputs": [
        {
          "name": "stdout",
          "output_type": "stream",
          "text": [
            "None\n",
            "None\n",
            "4\n",
            "1\n",
            "[10, 10, 10, 10, 20, 20, 20, 30, 30, 30, 40, 40, 50, 60, 100]\n",
            "15\n"
          ]
        }
      ]
    },
    {
      "cell_type": "code",
      "metadata": {
        "colab": {
          "base_uri": "https://localhost:8080/"
        },
        "id": "m-hRzdO-eE5a",
        "outputId": "0fc33e6d-cd91-46a6-86e4-1db1be5a6e6d"
      },
      "source": [
        "L = list(range(0,10,2))\n",
        "print(L)\n",
        "\n",
        "l = []\n",
        "for x in range(1,101):\n",
        "  if x%10 == 0:\n",
        "    l.append(x)\n",
        "print(l)    \n",
        "l.insert(2,101)\n",
        "print(l)"
      ],
      "execution_count": null,
      "outputs": [
        {
          "name": "stdout",
          "output_type": "stream",
          "text": [
            "[0, 2, 4, 6, 8]\n",
            "[10, 20, 30, 40, 50, 60, 70, 80, 90, 100]\n",
            "[10, 20, 101, 30, 40, 50, 60, 70, 80, 90, 100]\n"
          ]
        }
      ]
    },
    {
      "cell_type": "code",
      "metadata": {
        "colab": {
          "base_uri": "https://localhost:8080/"
        },
        "id": "0jGAOYHakXfD",
        "outputId": "a7e5c892-9db8-4ad5-d45e-c92eaed72d23"
      },
      "source": [
        "L1 = [10,20,30,40]\n",
        "L2 = [50,60,70]\n",
        "L1.extend(L2)\n",
        "print(L1)"
      ],
      "execution_count": null,
      "outputs": [
        {
          "name": "stdout",
          "output_type": "stream",
          "text": [
            "[10, 20, 30, 40, 50, 60, 70]\n"
          ]
        }
      ]
    },
    {
      "cell_type": "code",
      "metadata": {
        "colab": {
          "base_uri": "https://localhost:8080/"
        },
        "id": "6Ac-qUCQpjxI",
        "outputId": "781158c2-ffe3-46d8-f8d7-97246aabd286"
      },
      "source": [
        "l = [10,20,30,40,50,10,20,30,10,20,10,]\n",
        "l.remove(10)\n",
        "print(l)\n",
        "\n",
        "#l.remove(70) since 70 not in list therefore value error\n",
        "x = int(input('Enter value to remove: '))\n",
        "print('Before removal : ',l)\n",
        "if x in l:\n",
        "  l.remove(x)\n",
        "  print('After removal : ', l)\n",
        "else:\n",
        "  print(x,' is not present in list')"
      ],
      "execution_count": null,
      "outputs": [
        {
          "name": "stdout",
          "output_type": "stream",
          "text": [
            "[20, 30, 40, 50, 10, 20, 30, 10, 20, 10]\n",
            "Enter value to remove: 100\n",
            "Before removal :  [20, 30, 40, 50, 10, 20, 30, 10, 20, 10]\n",
            "100  is not present in list\n"
          ]
        }
      ]
    },
    {
      "cell_type": "code",
      "metadata": {
        "colab": {
          "base_uri": "https://localhost:8080/"
        },
        "id": "8LWl7ckLrV9Z",
        "outputId": "43f6bd07-408e-4565-e288-ab0f39bbaf3f"
      },
      "source": [
        "# removing all occurances\n",
        "l = [1,1,1,1,2,2,2,3,3,3]\n",
        "x = int(input('Enter element to remove: '))\n",
        "while True:\n",
        "  if x in l:\n",
        "    l.remove(x)\n",
        "  else:\n",
        "    break\n",
        "print('After removal : ',l)    "
      ],
      "execution_count": null,
      "outputs": [
        {
          "name": "stdout",
          "output_type": "stream",
          "text": [
            "Enter element to remove: 1\n",
            "After removal :  [2, 2, 2, 3, 3, 3]\n"
          ]
        }
      ]
    },
    {
      "cell_type": "code",
      "metadata": {
        "colab": {
          "base_uri": "https://localhost:8080/"
        },
        "id": "M47xXo1Dx0Ij",
        "outputId": "c66bee07-08f0-4e89-ab65-0a2c9a3a6871"
      },
      "source": [
        "L = [10,20,30,40,50]\n",
        "print('Before reversal : ',L)\n",
        "L.reverse()\n",
        "print('After reversal : ',L)\n",
        "\n",
        "R = reversed(L)\n",
        "print('Reversed is a python method while Reverse is a list specific method ',R)\n",
        "print(type(R))\n",
        "print('Re-reversed list is : ',L)"
      ],
      "execution_count": null,
      "outputs": [
        {
          "name": "stdout",
          "output_type": "stream",
          "text": [
            "Before reversal :  [10, 20, 30, 40, 50]\n",
            "After reversal :  [50, 40, 30, 20, 10]\n",
            "Reversed is a python method while Reverse is a list specific method  <list_reverseiterator object at 0x7f2f96822f90>\n",
            "<class 'list_reverseiterator'>\n",
            "Re-reversed list is :  [50, 40, 30, 20, 10]\n"
          ]
        }
      ]
    },
    {
      "cell_type": "code",
      "metadata": {
        "colab": {
          "base_uri": "https://localhost:8080/"
        },
        "id": "B6xkzQ11y3_k",
        "outputId": "1723cc3f-823b-482a-a1b9-5d4086ab1f9e"
      },
      "source": [
        "# Reversed is applicable for all object type:\n",
        "s = 'AMITPATHAK'\n",
        "r = reversed(s)\n",
        "print(r)\n",
        "for i in r:\n",
        "  print(i,end = ' ')"
      ],
      "execution_count": null,
      "outputs": [
        {
          "name": "stdout",
          "output_type": "stream",
          "text": [
            "<reversed object at 0x7f2f967e26d0>\n",
            "<reversed object at 0x7f2f967e26d0> <reversed object at 0x7f2f967e26d0> <reversed object at 0x7f2f967e26d0> <reversed object at 0x7f2f967e26d0> <reversed object at 0x7f2f967e26d0> <reversed object at 0x7f2f967e26d0> <reversed object at 0x7f2f967e26d0> <reversed object at 0x7f2f967e26d0> <reversed object at 0x7f2f967e26d0> <reversed object at 0x7f2f967e26d0> "
          ]
        }
      ]
    },
    {
      "cell_type": "code",
      "metadata": {
        "colab": {
          "base_uri": "https://localhost:8080/"
        },
        "id": "svKf9Gj3dcJ1",
        "outputId": "44f6e075-bf2c-4991-b6a2-2b8d65ab7e2a"
      },
      "source": [
        "l = [10,20,5,15,0,25]\n",
        "print('Before sorting ',l)\n",
        "l.sort()\n",
        "print('After sorting ',l)\n",
        "\n",
        "print()\n",
        "l1 = ['cat','banana','amit','anil']\n",
        "l1.sort()\n",
        "print(l1)\n",
        "print('After sorting ', l1)\n",
        "\n",
        "l1.sort(reverse = True)\n",
        "print(l1)\n",
        "\n",
        "print()\n",
        "l2 = ['mango','apple','banana']\n",
        "print(l2)\n",
        "l2.sort(reverse = True)\n",
        "print(l2)"
      ],
      "execution_count": null,
      "outputs": [
        {
          "name": "stdout",
          "output_type": "stream",
          "text": [
            "Before sorting  [10, 20, 5, 15, 0, 25]\n",
            "After sorting  [0, 5, 10, 15, 20, 25]\n",
            "\n",
            "['amit', 'anil', 'banana', 'cat']\n",
            "After sorting  ['amit', 'anil', 'banana', 'cat']\n",
            "['cat', 'banana', 'anil', 'amit']\n",
            "\n",
            "['mango', 'apple', 'banana']\n",
            "['mango', 'banana', 'apple']\n"
          ]
        }
      ]
    },
    {
      "cell_type": "markdown",
      "metadata": {
        "id": "QPMsXE13olDE"
      },
      "source": [
        "**List Comprehension**"
      ]
    },
    {
      "cell_type": "code",
      "metadata": {
        "colab": {
          "base_uri": "https://localhost:8080/"
        },
        "id": "fC5dsi9uf3Ip",
        "outputId": "a67eafd7-a7eb-4075-9667-9e6c5f9ee77b"
      },
      "source": [
        "L = [x*x for x in range(1,6)]\n",
        "print(L)"
      ],
      "execution_count": null,
      "outputs": [
        {
          "name": "stdout",
          "output_type": "stream",
          "text": [
            "[1, 4, 9, 16, 25]\n"
          ]
        }
      ]
    },
    {
      "cell_type": "code",
      "metadata": {
        "colab": {
          "base_uri": "https://localhost:8080/"
        },
        "id": "vNnLgbcVo2Gl",
        "outputId": "a57410d0-41de-4b4c-e71b-b842ad6ccc50"
      },
      "source": [
        "L = [2**x for x in range(1,6)]\n",
        "print(L)"
      ],
      "execution_count": null,
      "outputs": [
        {
          "name": "stdout",
          "output_type": "stream",
          "text": [
            "[2, 4, 8, 16, 32]\n"
          ]
        }
      ]
    },
    {
      "cell_type": "code",
      "metadata": {
        "colab": {
          "base_uri": "https://localhost:8080/"
        },
        "id": "EznpPVguo7Gw",
        "outputId": "d9a4d889-c417-4ffb-8dd4-205100dc94bc"
      },
      "source": [
        "L = [x for x in range(1,101) if x%10 == 0]\n",
        "print(L)"
      ],
      "execution_count": null,
      "outputs": [
        {
          "name": "stdout",
          "output_type": "stream",
          "text": [
            "[10, 20, 30, 40, 50, 60, 70, 80, 90, 100]\n"
          ]
        }
      ]
    },
    {
      "cell_type": "code",
      "metadata": {
        "colab": {
          "base_uri": "https://localhost:8080/"
        },
        "id": "FRFW5LXTp0uQ",
        "outputId": "30c0d763-7ee0-4226-96ba-a9c0c54e5f39"
      },
      "source": [
        "l1 = [1,2,3,4,5,6,7,8,9,10]\n",
        "l2 = [5,6,7,8,9,10]\n",
        "\n",
        "L = [x for x in l1 if x not in l2]\n",
        "print(L)\n",
        "\n",
        "L1 = [x for x in l1 if x in l2]\n",
        "print(L1)"
      ],
      "execution_count": null,
      "outputs": [
        {
          "name": "stdout",
          "output_type": "stream",
          "text": [
            "[1, 2, 3, 4]\n",
            "[5, 6, 7, 8, 9, 10]\n"
          ]
        }
      ]
    },
    {
      "cell_type": "code",
      "metadata": {
        "colab": {
          "base_uri": "https://localhost:8080/"
        },
        "id": "otxwIwYpqV_9",
        "outputId": "785a2bcf-14e7-451f-b543-042b9f75af17"
      },
      "source": [
        "# List containing 1st letter  \n",
        "l = ['Amit','Shivam','Neelesh','Vipin']\n",
        "L = [word[0] for word in l]\n",
        "print(L)"
      ],
      "execution_count": null,
      "outputs": [
        {
          "name": "stdout",
          "output_type": "stream",
          "text": [
            "['A', 'S', 'N', 'V']\n"
          ]
        }
      ]
    },
    {
      "cell_type": "code",
      "metadata": {
        "colab": {
          "base_uri": "https://localhost:8080/"
        },
        "id": "FEd6Fia8rgPN",
        "outputId": "5a3d4360-1408-4dc3-c1c1-2b68f5545bff"
      },
      "source": [
        "s = 'The quick brown fox jumps over the lazy dog'\n",
        "words = s.split()\n",
        "print(words)\n",
        "\n",
        "# list comprehensing\n",
        "List1 = [[x.upper(),len(x)] for x in words]\n",
        "print(List1)"
      ],
      "execution_count": null,
      "outputs": [
        {
          "name": "stdout",
          "output_type": "stream",
          "text": [
            "['The', 'quick', 'brown', 'fox', 'jumps', 'over', 'the', 'lazy', 'dog']\n",
            "[['THE', 3], ['QUICK', 5], ['BROWN', 5], ['FOX', 3], ['JUMPS', 5], ['OVER', 4], ['THE', 3], ['LAZY', 4], ['DOG', 3]]\n"
          ]
        }
      ]
    },
    {
      "cell_type": "code",
      "metadata": {
        "colab": {
          "base_uri": "https://localhost:8080/"
        },
        "id": "nl1izmr6s17l",
        "outputId": "c440469f-c687-4738-feb1-fc9a09bde4d8"
      },
      "source": [
        "vowels = ['a','e','i','o','u']\n",
        "s = input('Enter the string ')\n",
        "s.lower()\n",
        "\n",
        "ch = []\n",
        "for i in range(len(s)):\n",
        "  ch.append(s[i])\n",
        "\n",
        "list1 =  [x for x in ch if x in vowels]\n",
        "\n",
        "print(list1) "
      ],
      "execution_count": null,
      "outputs": [
        {
          "name": "stdout",
          "output_type": "stream",
          "text": [
            "Enter the string Aeiouaeiou\n",
            "['e', 'i', 'o', 'u', 'a', 'e', 'i', 'o', 'u']\n"
          ]
        }
      ]
    },
    {
      "cell_type": "code",
      "metadata": {
        "colab": {
          "base_uri": "https://localhost:8080/"
        },
        "id": "Ug9MGhb-vpH3",
        "outputId": "d3acec26-11c9-48d3-d234-638a7bce5176"
      },
      "source": [
        "\n",
        "s = input()\n",
        "result = []\n",
        "for ch in vowels:\n",
        "  if ch in s:\n",
        "    result.append(ch)\n",
        "print(result)    "
      ],
      "execution_count": null,
      "outputs": [
        {
          "name": "stdout",
          "output_type": "stream",
          "text": [
            "Aaaaaeeeeeeiiiiihhhhjjj\n",
            "['a', 'e', 'i']\n"
          ]
        }
      ]
    },
    {
      "cell_type": "code",
      "metadata": {
        "colab": {
          "base_uri": "https://localhost:8080/",
          "height": 243
        },
        "id": "zaHPTn_iwEQx",
        "outputId": "dc17a068-4a3c-4d01-ec16-7a3278142a03"
      },
      "source": [
        "s = input()\n",
        "l = [ch for ch in vowels if ch in s]\n",
        "print(l)\n",
        "print(len(l))"
      ],
      "execution_count": null,
      "outputs": [
        {
          "name": "stdout",
          "output_type": "stream",
          "text": [
            "Mississippi\n"
          ]
        },
        {
          "ename": "NameError",
          "evalue": "ignored",
          "output_type": "error",
          "traceback": [
            "\u001b[0;31m---------------------------------------------------------------------------\u001b[0m",
            "\u001b[0;31mNameError\u001b[0m                                 Traceback (most recent call last)",
            "\u001b[0;32m<ipython-input-1-dd7c1502faaa>\u001b[0m in \u001b[0;36m<module>\u001b[0;34m()\u001b[0m\n\u001b[1;32m      1\u001b[0m \u001b[0ms\u001b[0m \u001b[0;34m=\u001b[0m \u001b[0minput\u001b[0m\u001b[0;34m(\u001b[0m\u001b[0;34m)\u001b[0m\u001b[0;34m\u001b[0m\u001b[0;34m\u001b[0m\u001b[0m\n\u001b[0;32m----> 2\u001b[0;31m \u001b[0ml\u001b[0m \u001b[0;34m=\u001b[0m \u001b[0;34m[\u001b[0m\u001b[0mch\u001b[0m \u001b[0;32mfor\u001b[0m \u001b[0mch\u001b[0m \u001b[0;32min\u001b[0m \u001b[0mvowels\u001b[0m \u001b[0;32mif\u001b[0m \u001b[0mch\u001b[0m \u001b[0;32min\u001b[0m \u001b[0ms\u001b[0m\u001b[0;34m]\u001b[0m\u001b[0;34m\u001b[0m\u001b[0;34m\u001b[0m\u001b[0m\n\u001b[0m\u001b[1;32m      3\u001b[0m \u001b[0mprint\u001b[0m\u001b[0;34m(\u001b[0m\u001b[0ml\u001b[0m\u001b[0;34m)\u001b[0m\u001b[0;34m\u001b[0m\u001b[0;34m\u001b[0m\u001b[0m\n\u001b[1;32m      4\u001b[0m \u001b[0mprint\u001b[0m\u001b[0;34m(\u001b[0m\u001b[0mlen\u001b[0m\u001b[0;34m(\u001b[0m\u001b[0ml\u001b[0m\u001b[0;34m)\u001b[0m\u001b[0;34m)\u001b[0m\u001b[0;34m\u001b[0m\u001b[0;34m\u001b[0m\u001b[0m\n",
            "\u001b[0;31mNameError\u001b[0m: name 'vowels' is not defined"
          ]
        }
      ]
    },
    {
      "cell_type": "markdown",
      "metadata": {
        "id": "TMv7MmH-LHRn"
      },
      "source": [
        "**Tuple**"
      ]
    },
    {
      "cell_type": "code",
      "metadata": {
        "colab": {
          "base_uri": "https://localhost:8080/"
        },
        "id": "RrQBaC39LJPh",
        "outputId": "90f6305a-f103-4945-cd09-f1d1f2f3a9c3"
      },
      "source": [
        "t = 1,3,2,3,2,3,'durga','amit','amit',1,2\n",
        "print(type(t))\n",
        "print(t[-1])\n",
        "print(t[0])\n",
        "print(t[1:8])\n",
        "\n",
        "# t[2] = 'pathak'   ## error as tuple is not mutable\n",
        "# Immutable"
      ],
      "execution_count": null,
      "outputs": [
        {
          "name": "stdout",
          "output_type": "stream",
          "text": [
            "<class 'tuple'>\n",
            "2\n",
            "1\n",
            "(3, 2, 3, 2, 3, 'durga', 'amit')\n"
          ]
        }
      ]
    },
    {
      "cell_type": "code",
      "metadata": {
        "colab": {
          "base_uri": "https://localhost:8080/"
        },
        "id": "80j54nrXLwL3",
        "outputId": "b65d4f72-b8b3-4128-a04c-c8ee613b5851"
      },
      "source": [
        "# Creating tuple\n",
        "t1 = ()\n",
        "t2 = (1,2,3,4,)\n",
        "t3 = (10,)\n",
        "\n",
        "L = [1,2,3,4,5]\n",
        "t4 = tuple(L)\n",
        "\n",
        "t5 = tuple('durga')\n",
        "t6 = tuple(range(1,11))\n",
        "print(t1)\n",
        "print(t2)\n",
        "print(t3)\n",
        "print(t4)\n",
        "print(t5)\n",
        "print(t6)\n",
        "\n",
        "\n",
        "x = eval(input('Enter tuple value'))\n",
        "print(type(x))\n",
        "t7 = tuple(x)\n",
        "print(type(t7))\n",
        "print(t7)\n"
      ],
      "execution_count": null,
      "outputs": [
        {
          "name": "stdout",
          "output_type": "stream",
          "text": [
            "()\n",
            "(1, 2, 3, 4)\n",
            "(10,)\n",
            "(1, 2, 3, 4, 5)\n",
            "('d', 'u', 'r', 'g', 'a')\n",
            "(1, 2, 3, 4, 5, 6, 7, 8, 9, 10)\n",
            "Enter tuple value(10,20,30,40,50,60,70,)\n",
            "<class 'tuple'>\n",
            "<class 'tuple'>\n",
            "(10, 20, 30, 40, 50, 60, 70)\n"
          ]
        }
      ]
    },
    {
      "cell_type": "code",
      "metadata": {
        "colab": {
          "base_uri": "https://localhost:8080/"
        },
        "id": "C86fc-YLQm4c",
        "outputId": "4105a66b-b4a1-4979-eb70-ea0b91c5ac18"
      },
      "source": [
        "# Accessing element of tuple object:\n",
        "t = (10,20,30,40,50,60,7,80,90,100)\n",
        "print(t[1])\n",
        "print(t[0])\n",
        "print(t[-1])\n",
        "# print(t[100]) indexOutOfBound Error\n",
        "\n",
        "print(t[::])\n",
        "print(t[2:5])\n",
        "print(t[-1:-100:-1])\n",
        "print(t[1:100])\n",
        "print(t[::2])\n",
        "print(t[::-2]) # if we give negative step then it starts from end position."
      ],
      "execution_count": null,
      "outputs": [
        {
          "name": "stdout",
          "output_type": "stream",
          "text": [
            "20\n",
            "10\n",
            "100\n",
            "(10, 20, 30, 40, 50, 60, 7, 80, 90, 100)\n",
            "(30, 40, 50)\n",
            "(100, 90, 80, 7, 60, 50, 40, 30, 20, 10)\n",
            "(20, 30, 40, 50, 60, 7, 80, 90, 100)\n",
            "(10, 30, 50, 7, 90)\n",
            "(100, 80, 60, 40, 20)\n"
          ]
        }
      ]
    },
    {
      "cell_type": "code",
      "metadata": {
        "colab": {
          "base_uri": "https://localhost:8080/"
        },
        "id": "auQwUln9RcGc",
        "outputId": "aacf71bf-a9df-4ffc-82c2-69ba1ee3b4c9"
      },
      "source": [
        "# Operators and Function on tuples\n",
        "\n",
        "t1 = (10,20,30,40)\n",
        "t2 = (50,60,70,80)\n",
        "print(t1+t2)\n",
        "\n",
        "# New object created\n",
        "\n",
        "l1 = [4]\n",
        "l2 = [1,2,3]\n",
        "print(l2+l1)\n",
        "\n",
        "# t1+5 Can only concatinate tuple data types \n"
      ],
      "execution_count": null,
      "outputs": [
        {
          "name": "stdout",
          "output_type": "stream",
          "text": [
            "(10, 20, 30, 40, 50, 60, 70, 80)\n",
            "[1, 2, 3, 4]\n"
          ]
        }
      ]
    },
    {
      "cell_type": "code",
      "metadata": {
        "colab": {
          "base_uri": "https://localhost:8080/"
        },
        "id": "TdpjPibFSKgz",
        "outputId": "5feced91-82c9-4240-b69a-b2fc51d6c868"
      },
      "source": [
        "# Operator for tuple\n",
        "\n",
        "t1 = (10,20,30,40,50)\n",
        "print(3*t1)"
      ],
      "execution_count": null,
      "outputs": [
        {
          "name": "stdout",
          "output_type": "stream",
          "text": [
            "(10, 20, 30, 40, 50, 10, 20, 30, 40, 50, 10, 20, 30, 40, 50)\n"
          ]
        }
      ]
    },
    {
      "cell_type": "code",
      "metadata": {
        "colab": {
          "base_uri": "https://localhost:8080/"
        },
        "id": "ezVsW_-2UpXb",
        "outputId": "096b679c-7044-43b7-bfa1-ef3dee9a4629"
      },
      "source": [
        "t1 = tuple([x for x in range(101) if x%10 == 0])\n",
        "print(t)\n",
        "\n",
        "t2 = tuple([x for x in range(51) if x%5 == 0]) \n",
        "print(t2)\n",
        "\n",
        "# Equality operator \n",
        "print()\n",
        "print(t1 == t2)\n",
        "print(t1 != t2)\n",
        "\n",
        "# Relational operator\n",
        "print()\n",
        "print(t1 > t2)\n",
        "# Basically compares two tuples for same indices \n",
        "\n",
        "# Membership operator\n",
        "print()\n",
        "print(50 in t1)\n",
        "print(71 not in t2)"
      ],
      "execution_count": null,
      "outputs": [
        {
          "name": "stdout",
          "output_type": "stream",
          "text": [
            "(0, 10, 20, 30, 40, 50, 60, 70, 80, 90, 100)\n",
            "(0, 5, 10, 15, 20, 25, 30, 35, 40, 45, 50)\n",
            "\n",
            "False\n",
            "True\n",
            "\n",
            "True\n",
            "\n",
            "True\n",
            "True\n"
          ]
        }
      ]
    },
    {
      "cell_type": "code",
      "metadata": {
        "colab": {
          "base_uri": "https://localhost:8080/"
        },
        "id": "tMiZsxGgZydg",
        "outputId": "7af9cc94-04b7-485f-9978-a8c948569a86"
      },
      "source": [
        "# Sorting and Reversing tuple\n",
        "t1 = (5,4,3,2,1)\n",
        "# t1.reverse()\n",
        "t2 = tuple(reversed(t1))\n",
        "print(t2)\n",
        "\n",
        "# t1.sort()\n",
        "l = sorted(t1)\n",
        "t2 = tuple(l)\n",
        "print(t2)"
      ],
      "execution_count": null,
      "outputs": [
        {
          "name": "stdout",
          "output_type": "stream",
          "text": [
            "(1, 2, 3, 4, 5)\n",
            "(1, 2, 3, 4, 5)\n"
          ]
        }
      ]
    },
    {
      "cell_type": "code",
      "metadata": {
        "colab": {
          "base_uri": "https://localhost:8080/"
        },
        "id": "braMYLYohDTj",
        "outputId": "5d812bfc-733a-47f9-ef8a-852022690c9e"
      },
      "source": [
        "# Program to input tuple of numbers\n",
        "t = eval(input('Enter the numbers of tuples'))\n",
        "print(t)\n",
        "print(type(t))\n",
        "print('average: ',sum(t)/len(t))"
      ],
      "execution_count": null,
      "outputs": [
        {
          "name": "stdout",
          "output_type": "stream",
          "text": [
            "Enter the numbers of tuples10,20,30\n",
            "(10, 20, 30)\n",
            "<class 'tuple'>\n",
            "average:  20.0\n"
          ]
        }
      ]
    },
    {
      "cell_type": "code",
      "metadata": {
        "colab": {
          "base_uri": "https://localhost:8080/"
        },
        "id": "eP7mh0jRh5Dy",
        "outputId": "76836845-cdf1-4633-c3fd-8bf1cb012830"
      },
      "source": [
        "L = eval(input('Enter list'))\n",
        "print(type(L))"
      ],
      "execution_count": null,
      "outputs": [
        {
          "name": "stdout",
          "output_type": "stream",
          "text": [
            "Enter list[10,20,30]\n",
            "<class 'list'>\n"
          ]
        }
      ]
    },
    {
      "cell_type": "markdown",
      "metadata": {
        "id": "v-EEIaY6w0hm"
      },
      "source": [
        "**Set Data Structures**"
      ]
    },
    {
      "cell_type": "code",
      "metadata": {
        "colab": {
          "base_uri": "https://localhost:8080/"
        },
        "id": "UuL90XaEw5XH",
        "outputId": "2e0818b0-042f-49b6-ddf4-2efd19f34de3"
      },
      "source": [
        "s1 = set()\n",
        "s2 = {10,20,30,40,10}\n",
        "print(s1)\n",
        "print(s2)"
      ],
      "execution_count": null,
      "outputs": [
        {
          "name": "stdout",
          "output_type": "stream",
          "text": [
            "set()\n",
            "{40, 10, 20, 30}\n"
          ]
        }
      ]
    },
    {
      "cell_type": "code",
      "metadata": {
        "colab": {
          "base_uri": "https://localhost:8080/"
        },
        "id": "VylMG0ixyBVx",
        "outputId": "278c371c-0b6d-4131-ed6c-7d57db1d2351"
      },
      "source": [
        "l= [10,20,30,40,50,10,20,10]\n",
        "s = set(l)\n",
        "print(s)\n",
        "\n",
        "s1 = set(range(0,101,10))\n",
        "print(s1)\n",
        "\n",
        "s2 = set('apple')\n",
        "print(s2)"
      ],
      "execution_count": null,
      "outputs": [
        {
          "name": "stdout",
          "output_type": "stream",
          "text": [
            "{40, 10, 50, 20, 30}\n",
            "{0, 100, 70, 40, 10, 80, 50, 20, 90, 60, 30}\n",
            "{'a', 'p', 'l', 'e'}\n"
          ]
        }
      ]
    },
    {
      "cell_type": "code",
      "metadata": {
        "colab": {
          "base_uri": "https://localhost:8080/"
        },
        "id": "p7nj4bYFyS5t",
        "outputId": "ba7fb70e-a8a2-4f0c-a104-c4be27d1a197"
      },
      "source": [
        "# Set creation by dynamic input\n",
        "s = set(input('Enter set elements : '))\n",
        "print(s)\n",
        "\n",
        "s1 = eval(input('Enter set elements : '))\n",
        "print(s1)"
      ],
      "execution_count": null,
      "outputs": [
        {
          "name": "stdout",
          "output_type": "stream",
          "text": [
            "Enter set elements : 10203040\n",
            "{'0', '2', '1', '4', '3'}\n",
            "Enter set elements : 10,20,30,40,50\n",
            "(10, 20, 30, 40, 50)\n"
          ]
        }
      ]
    },
    {
      "cell_type": "code",
      "metadata": {
        "colab": {
          "base_uri": "https://localhost:8080/"
        },
        "id": "synt-LdMzvZ4",
        "outputId": "35775355-f492-462d-8478-3bf02ca2f6df"
      },
      "source": [
        "s1 = {10,20,30}\n",
        "s2 = {20,30,10}\n",
        "\n",
        "print(s1 == s2)\n",
        "print(s1 > s2)"
      ],
      "execution_count": null,
      "outputs": [
        {
          "name": "stdout",
          "output_type": "stream",
          "text": [
            "True\n",
            "False\n"
          ]
        }
      ]
    },
    {
      "cell_type": "code",
      "metadata": {
        "colab": {
          "base_uri": "https://localhost:8080/"
        },
        "id": "7ALTSBwV0E-i",
        "outputId": "19a46916-ef9e-4a42-f3ac-e713d34167a5"
      },
      "source": [
        "s = {10,20,30,40,50}\n",
        "print( 50 in s)"
      ],
      "execution_count": null,
      "outputs": [
        {
          "name": "stdout",
          "output_type": "stream",
          "text": [
            "True\n"
          ]
        }
      ]
    },
    {
      "cell_type": "code",
      "metadata": {
        "colab": {
          "base_uri": "https://localhost:8080/"
        },
        "id": "b4Kpu_oI0WoO",
        "outputId": "bb7217f4-4eef-4128-cb65-bfa0bbdb4023"
      },
      "source": [
        "# Functions/Method related to sets\n",
        "s = {10,20,30,40,50,60,70,80,90,100}\n",
        "print(len(s)) # len() - this is a python specific method\n",
        "\n",
        "# add method\n",
        "s.add(110)\n",
        "print(len(s))"
      ],
      "execution_count": null,
      "outputs": [
        {
          "name": "stdout",
          "output_type": "stream",
          "text": [
            "10\n",
            "11\n"
          ]
        }
      ]
    },
    {
      "cell_type": "code",
      "metadata": {
        "colab": {
          "base_uri": "https://localhost:8080/",
          "height": 207
        },
        "id": "Jwwrvmsk3KrE",
        "outputId": "57227c26-f486-49a9-9443-9016aff7624c"
      },
      "source": [
        "s = {20,30,40,50,70,90,60,10,100}\n",
        "s1 = s.reverse() \n",
        "print(s1)"
      ],
      "execution_count": null,
      "outputs": [
        {
          "ename": "AttributeError",
          "evalue": "ignored",
          "output_type": "error",
          "traceback": [
            "\u001b[0;31m---------------------------------------------------------------------------\u001b[0m",
            "\u001b[0;31mAttributeError\u001b[0m                            Traceback (most recent call last)",
            "\u001b[0;32m<ipython-input-17-411576e2acfb>\u001b[0m in \u001b[0;36m<module>\u001b[0;34m()\u001b[0m\n\u001b[1;32m      1\u001b[0m \u001b[0ms\u001b[0m \u001b[0;34m=\u001b[0m \u001b[0;34m{\u001b[0m\u001b[0;36m20\u001b[0m\u001b[0;34m,\u001b[0m\u001b[0;36m30\u001b[0m\u001b[0;34m,\u001b[0m\u001b[0;36m40\u001b[0m\u001b[0;34m,\u001b[0m\u001b[0;36m50\u001b[0m\u001b[0;34m,\u001b[0m\u001b[0;36m70\u001b[0m\u001b[0;34m,\u001b[0m\u001b[0;36m90\u001b[0m\u001b[0;34m,\u001b[0m\u001b[0;36m60\u001b[0m\u001b[0;34m,\u001b[0m\u001b[0;36m10\u001b[0m\u001b[0;34m,\u001b[0m\u001b[0;36m100\u001b[0m\u001b[0;34m}\u001b[0m\u001b[0;34m\u001b[0m\u001b[0;34m\u001b[0m\u001b[0m\n\u001b[0;32m----> 2\u001b[0;31m \u001b[0ms1\u001b[0m \u001b[0;34m=\u001b[0m \u001b[0ms\u001b[0m\u001b[0;34m.\u001b[0m\u001b[0mreverse\u001b[0m\u001b[0;34m(\u001b[0m\u001b[0;34m)\u001b[0m\u001b[0;34m\u001b[0m\u001b[0;34m\u001b[0m\u001b[0m\n\u001b[0m\u001b[1;32m      3\u001b[0m \u001b[0mprint\u001b[0m\u001b[0;34m(\u001b[0m\u001b[0ms1\u001b[0m\u001b[0;34m)\u001b[0m\u001b[0;34m\u001b[0m\u001b[0;34m\u001b[0m\u001b[0m\n",
            "\u001b[0;31mAttributeError\u001b[0m: 'set' object has no attribute 'reverse'"
          ]
        }
      ]
    },
    {
      "cell_type": "code",
      "metadata": {
        "colab": {
          "base_uri": "https://localhost:8080/"
        },
        "id": "WfygnwxF8EAH",
        "outputId": "05beabd9-cba8-4d1f-8a63-d3ae8be44b62"
      },
      "source": [
        "s ={10,20}\n",
        "l = [30,40]\n",
        "s.update(l)\n",
        "print(s)\n",
        "\n",
        "s.update(range(1,5),'durga')\n",
        "print(s)"
      ],
      "execution_count": null,
      "outputs": [
        {
          "name": "stdout",
          "output_type": "stream",
          "text": [
            "{40, 10, 20, 30}\n",
            "{'a', 1, 2, 3, 4, 'd', 'g', 40, 'u', 10, 'r', 20, 30}\n"
          ]
        }
      ]
    },
    {
      "cell_type": "code",
      "metadata": {
        "colab": {
          "base_uri": "https://localhost:8080/"
        },
        "id": "0uZ_1bIf9UZi",
        "outputId": "14b34eb6-ad0b-4ce7-e9c0-22e397d79705"
      },
      "source": [
        "s = set()\n",
        "s.update(range(1,11))\n",
        "print(s)\n",
        "\n",
        "s.remove(10)\n",
        "print('After removing 10, s: ',s)\n",
        "\n",
        "s.discard(50)\n",
        "s.discard(5)\n",
        "print('After discarding 5. and 50 from set: ',s)\n",
        "\n",
        "print(s.pop()) # s.pop() - removes a random element from the set\n",
        "# you can not pop any element from empty set - hence, error\n",
        "\n",
        "# s.clear() - removes all elements from the set\n",
        "print()\n",
        "print(s)"
      ],
      "execution_count": 1,
      "outputs": [
        {
          "output_type": "stream",
          "name": "stdout",
          "text": [
            "{1, 2, 3, 4, 5, 6, 7, 8, 9, 10}\n",
            "After removing 10, s:  {1, 2, 3, 4, 5, 6, 7, 8, 9}\n",
            "After discarding 5. and 50 from set:  {1, 2, 3, 4, 6, 7, 8, 9}\n",
            "1\n",
            "\n",
            "{2, 3, 4, 6, 7, 8, 9}\n"
          ]
        }
      ]
    },
    {
      "cell_type": "markdown",
      "metadata": {
        "id": "uiaGjTgWmf_b"
      },
      "source": [
        "**Dictionary Data Structure**"
      ]
    },
    {
      "cell_type": "code",
      "metadata": {
        "colab": {
          "base_uri": "https://localhost:8080/",
          "height": 189
        },
        "id": "TuMpSmMNmeh9",
        "outputId": "0f858096-e862-4bed-83e5-0ba78256cc35"
      },
      "source": [
        "d = {'a':1,'b':2,'c':3,'d':4}\n",
        "print(d(a))"
      ],
      "execution_count": 5,
      "outputs": [
        {
          "output_type": "error",
          "ename": "NameError",
          "evalue": "ignored",
          "traceback": [
            "\u001b[0;31m---------------------------------------------------------------------------\u001b[0m",
            "\u001b[0;31mNameError\u001b[0m                                 Traceback (most recent call last)",
            "\u001b[0;32m<ipython-input-5-de51dc0e7f78>\u001b[0m in \u001b[0;36m<module>\u001b[0;34m()\u001b[0m\n\u001b[1;32m      1\u001b[0m \u001b[0md\u001b[0m \u001b[0;34m=\u001b[0m \u001b[0;34m{\u001b[0m\u001b[0;34m'a'\u001b[0m\u001b[0;34m:\u001b[0m\u001b[0;36m1\u001b[0m\u001b[0;34m,\u001b[0m\u001b[0;34m'b'\u001b[0m\u001b[0;34m:\u001b[0m\u001b[0;36m2\u001b[0m\u001b[0;34m,\u001b[0m\u001b[0;34m'c'\u001b[0m\u001b[0;34m:\u001b[0m\u001b[0;36m3\u001b[0m\u001b[0;34m,\u001b[0m\u001b[0;34m'd'\u001b[0m\u001b[0;34m:\u001b[0m\u001b[0;36m4\u001b[0m\u001b[0;34m}\u001b[0m\u001b[0;34m\u001b[0m\u001b[0;34m\u001b[0m\u001b[0m\n\u001b[0;32m----> 2\u001b[0;31m \u001b[0mprint\u001b[0m\u001b[0;34m(\u001b[0m\u001b[0md\u001b[0m\u001b[0;34m(\u001b[0m\u001b[0ma\u001b[0m\u001b[0;34m)\u001b[0m\u001b[0;34m)\u001b[0m\u001b[0;34m\u001b[0m\u001b[0;34m\u001b[0m\u001b[0m\n\u001b[0m",
            "\u001b[0;31mNameError\u001b[0m: name 'a' is not defined"
          ]
        }
      ]
    },
    {
      "cell_type": "code",
      "metadata": {
        "colab": {
          "base_uri": "https://localhost:8080/",
          "height": 153
        },
        "id": "m9Mz_hIxreTi",
        "outputId": "44f81349-3d52-4f63-8c04-f1d4c3248376"
      },
      "source": [
        "d = eval(input('Enter dictionary :'))\n",
        "print(d)\n",
        "# this code works"
      ],
      "execution_count": 10,
      "outputs": [
        {
          "name": "stdout",
          "output_type": "stream",
          "text": [
            "Enter dictionary :{ 100 : ‘a’, 200 : ‘b’}\n"
          ]
        },
        {
          "output_type": "error",
          "ename": "SyntaxError",
          "evalue": "ignored",
          "traceback": [
            "\u001b[0;36m  File \u001b[0;32m\"<string>\"\u001b[0;36m, line \u001b[0;32m1\u001b[0m\n\u001b[0;31m    { 100 : ‘a’, 200 : ‘b’}\u001b[0m\n\u001b[0m              ^\u001b[0m\n\u001b[0;31mSyntaxError\u001b[0m\u001b[0;31m:\u001b[0m invalid character in identifier\n"
          ]
        }
      ]
    },
    {
      "cell_type": "code",
      "metadata": {
        "colab": {
          "base_uri": "https://localhost:8080/"
        },
        "id": "_O8wrVTEsTe7",
        "outputId": "c35135c8-d5e8-4e15-9376-b9adbf3c484a"
      },
      "source": [
        "d = {1:'a',2:'b',3:'c'}\n",
        "print(d[1])\n",
        "# print(d[700]). - error:key not found\n",
        "\n",
        "d[2] = 'z'\n",
        "print(d)"
      ],
      "execution_count": 13,
      "outputs": [
        {
          "output_type": "stream",
          "name": "stdout",
          "text": [
            "a\n",
            "{1: 'a', 2: 'z', 3: 'c'}\n"
          ]
        }
      ]
    },
    {
      "cell_type": "code",
      "metadata": {
        "colab": {
          "base_uri": "https://localhost:8080/"
        },
        "id": "lAz_-PG1vETY",
        "outputId": "db44fa0f-2bc0-4176-e314-25fb3344d9ba"
      },
      "source": [
        "d = {}\n",
        "n = int(input('Enter number of student : '))\n",
        "for i in range(n):\n",
        "  name = input('Enter name : ')\n",
        "  marks = int(input('Enter marks : '))\n",
        "  d[name] = marks\n",
        "print(d)  "
      ],
      "execution_count": 16,
      "outputs": [
        {
          "output_type": "stream",
          "name": "stdout",
          "text": [
            "Enter number of student : 2\n",
            "Enter name : Amit\n",
            "Enter marks : 100\n",
            "Enter name : Neelesh \n",
            "Enter marks : 105\n",
            "{'Amit': 100, 'Neelesh ': 105}\n"
          ]
        }
      ]
    },
    {
      "cell_type": "code",
      "metadata": {
        "id": "_a25oCqNrq0E"
      },
      "source": [
        "d = {1:'a',2:'b',3:'c'}"
      ],
      "execution_count": 17,
      "outputs": []
    },
    {
      "cell_type": "code",
      "metadata": {
        "colab": {
          "base_uri": "https://localhost:8080/"
        },
        "id": "sq8-GrP24fJZ",
        "outputId": "4eca7afd-1986-4070-e376-109cfb77d25c"
      },
      "source": [
        "d = {'amit':100,'shivam':200,'neelesh':300}\n",
        "print(d.items())\n",
        "print(len(d))\n",
        "d.get('amit')\n",
        "d.pop('amit')\n",
        "print(d)\n",
        "\n",
        "print()\n",
        "d.popitem()\n",
        "print(d)\n",
        "\n",
        "print()\n",
        "print(d.keys())\n",
        "print(d.values())\n",
        "\n",
        "print()\n",
        "d1 = d.copy()\n",
        "print(d1.items())\n"
      ],
      "execution_count": 30,
      "outputs": [
        {
          "output_type": "stream",
          "name": "stdout",
          "text": [
            "dict_items([('amit', 100), ('shivam', 200), ('neelesh', 300)])\n",
            "3\n",
            "{'shivam': 200, 'neelesh': 300}\n",
            "\n",
            "{'shivam': 200}\n",
            "\n",
            "dict_keys(['shivam'])\n",
            "dict_values([200])\n",
            "\n",
            "dict_items([('shivam', 200)])\n"
          ]
        }
      ]
    },
    {
      "cell_type": "code",
      "metadata": {
        "colab": {
          "base_uri": "https://localhost:8080/"
        },
        "id": "vmep3ZKt5rTF",
        "outputId": "8c905f57-9805-4a47-8c3a-ac5f8eabebf4"
      },
      "source": [
        "# Dict comprehension\n",
        "d = {x:x^2 for x in range(1,6)}\n",
        "print(d)\n",
        "print(type(d))"
      ],
      "execution_count": 34,
      "outputs": [
        {
          "output_type": "stream",
          "name": "stdout",
          "text": [
            "{1: 3, 2: 0, 3: 1, 4: 6, 5: 7}\n",
            "<class 'dict'>\n"
          ]
        }
      ]
    },
    {
      "cell_type": "code",
      "metadata": {
        "colab": {
          "base_uri": "https://localhost:8080/"
        },
        "id": "wkeDJVOR6UkO",
        "outputId": "49b749a2-a267-4fde-ae18-3f401a1f8a94"
      },
      "source": [
        "# just a practice program\n",
        "n = int(input('Enter number of students: '))\n",
        "d = {}\n",
        "for i in range(n):\n",
        "  name = input('Enter name: ')\n",
        "  marks = int(input('Enter marks: '))\n",
        "  d[name] = marks\n",
        "print('Here is the dict containing name and marks of students: ')  \n",
        "print(d)\n",
        "\n",
        "print()\n",
        "while True:\n",
        "  name = input('Enter the name of student to get marks: ')\n",
        "  if name in d:\n",
        "    print(name, ' marks are : ',d[name])\n",
        "  else:\n",
        "    print('Given student not found in list')\n",
        "  option = input('Do you want to perform operation again: [Yes/No]')\n",
        "  if option.lower() == 'no':\n",
        "    print('Thankyou')\n",
        "    break\n"
      ],
      "execution_count": 38,
      "outputs": [
        {
          "output_type": "stream",
          "name": "stdout",
          "text": [
            "Enter number of students: 2\n",
            "Enter name: A\n",
            "Enter marks: 90\n",
            "Enter name: B\n",
            "Enter marks: 60\n",
            "Here is the dict containing name and marks of students: \n",
            "{'A': 90, 'B': 60}\n",
            "\n",
            "Enter the name of student to get marks: A\n",
            "A  marks are :  90\n",
            "Do you want to perform operation again: [Yes/No]Yes\n",
            "Enter the name of student to get marks: B\n",
            "B  marks are :  60\n",
            "Do you want to perform operation again: [Yes/No]No\n",
            "Thankyou\n"
          ]
        }
      ]
    }
  ]
}