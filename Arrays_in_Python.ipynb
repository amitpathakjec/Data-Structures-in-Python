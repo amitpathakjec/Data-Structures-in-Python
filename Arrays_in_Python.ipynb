{
  "nbformat": 4,
  "nbformat_minor": 0,
  "metadata": {
    "colab": {
      "name": "Arrays_in_Python",
      "provenance": [],
      "collapsed_sections": [
        "IsWFnbiR61CL"
      ]
    },
    "kernelspec": {
      "name": "python3",
      "display_name": "Python 3"
    }
  },
  "cells": [
    {
      "cell_type": "markdown",
      "metadata": {
        "id": "7PR319kK85gB",
        "colab_type": "text"
      },
      "source": [
        "\n",
        "**Array is a type of data structure. An array is an indexed collection of fixed number of homogenous elements. In Python language we can perform various operations on Array DS**"
      ]
    },
    {
      "cell_type": "markdown",
      "metadata": {
        "id": "IsWFnbiR61CL",
        "colab_type": "text"
      },
      "source": [
        "# **Operations on Array :**\n",
        "\n",
        "\n",
        "\n",
        "1.   array(data type, value list)\n",
        "2.   append() \n",
        "3.   insert(i,x) \n",
        "4.   pop()\n",
        "5.   remove()\n",
        "6.   index()\n",
        "7.   reverse()\n",
        "\n",
        "\n",
        "\n"
      ]
    },
    {
      "cell_type": "code",
      "metadata": {
        "id": "WI-b8dGK8k09",
        "colab_type": "code",
        "outputId": "9acb4b5d-8c6b-4dae-9e5d-034a340173ac",
        "colab": {
          "base_uri": "https://localhost:8080/",
          "height": 51
        }
      },
      "source": [
        "# array(): creation of an array\n",
        "\n",
        "import array\n",
        "A = array.array('i', [1, 2, 3])  \n",
        "for i in range (0, 3): \n",
        "    print (arr[i], end=\" \")\n",
        "print() \n",
        " "
      ],
      "execution_count": 0,
      "outputs": [
        {
          "output_type": "stream",
          "text": [
            "1 2 3 \n",
            "array('i', [1, 2, 3, 4])\n"
          ],
          "name": "stdout"
        }
      ]
    },
    {
      "cell_type": "code",
      "metadata": {
        "id": "Txk7Ym88c0A0",
        "colab_type": "code",
        "outputId": "18546dea-8c7c-41bd-bf79-5ace98b2efa7",
        "colab": {
          "base_uri": "https://localhost:8080/",
          "height": 34
        }
      },
      "source": [
        "# append(): adding an element to the array at last index\n",
        "\n",
        "import array\n",
        "A = array.array('i', [1, 2, 3])  \n",
        "\n",
        "A.append(4)\n",
        "print(A)\n",
        "    "
      ],
      "execution_count": 6,
      "outputs": [
        {
          "output_type": "stream",
          "text": [
            "array('i', [1, 2, 3, 4])\n"
          ],
          "name": "stdout"
        }
      ]
    },
    {
      "cell_type": "code",
      "metadata": {
        "id": "AbNGKLJzfYCC",
        "colab_type": "code",
        "colab": {
          "base_uri": "https://localhost:8080/",
          "height": 34
        },
        "outputId": "161c9c65-c511-4cc5-c4c2-139ed201ebd8"
      },
      "source": [
        "# insert(i,x): inserting an element X at i index\n",
        "\n",
        "import array\n",
        "A = array.array('i', [1, 2, 3])  \n",
        "\n",
        "A.insert(1,7)\n",
        "print(A)\n"
      ],
      "execution_count": 7,
      "outputs": [
        {
          "output_type": "stream",
          "text": [
            "array('i', [1, 7, 2, 3])\n"
          ],
          "name": "stdout"
        }
      ]
    },
    {
      "cell_type": "code",
      "metadata": {
        "id": "D66963NMfpUP",
        "colab_type": "code",
        "colab": {
          "base_uri": "https://localhost:8080/",
          "height": 34
        },
        "outputId": "bfa958b5-f553-4928-9108-e220b7d28090"
      },
      "source": [
        "# pop(): popping out the last element from an array\n",
        "\n",
        "import array\n",
        "A = array.array('i', [1, 2, 3])  \n",
        "\n",
        "A.pop()\n",
        "print(A)"
      ],
      "execution_count": 8,
      "outputs": [
        {
          "output_type": "stream",
          "text": [
            "array('i', [1, 2])\n"
          ],
          "name": "stdout"
        }
      ]
    },
    {
      "cell_type": "code",
      "metadata": {
        "id": "HUlCE8OTf2Ok",
        "colab_type": "code",
        "colab": {
          "base_uri": "https://localhost:8080/",
          "height": 34
        },
        "outputId": "497d6691-d924-4cb5-816f-27846a55db7b"
      },
      "source": [
        "# remove(x): removing first occurance of X in the array\n",
        "\n",
        "import array\n",
        "A = array.array('i', [1, 2, 3, 4, 2])  \n",
        "\n",
        "A.remove(2)\n",
        "print(A)"
      ],
      "execution_count": 9,
      "outputs": [
        {
          "output_type": "stream",
          "text": [
            "array('i', [1, 3, 4, 2])\n"
          ],
          "name": "stdout"
        }
      ]
    },
    {
      "cell_type": "code",
      "metadata": {
        "id": "IED1i3degMr4",
        "colab_type": "code",
        "colab": {
          "base_uri": "https://localhost:8080/",
          "height": 34
        },
        "outputId": "d9a1de03-aad6-4b95-d3fc-c89335398e68"
      },
      "source": [
        "# index(x): returns the first index of occurance of X in the array\n",
        "\n",
        "import array\n",
        "A = array.array('i', [1, 2, 3, 4, 5, 6, 3, 4])\n",
        "\n",
        "A.index(4)\n"
      ],
      "execution_count": 10,
      "outputs": [
        {
          "output_type": "execute_result",
          "data": {
            "text/plain": [
              "3"
            ]
          },
          "metadata": {
            "tags": []
          },
          "execution_count": 10
        }
      ]
    },
    {
      "cell_type": "code",
      "metadata": {
        "id": "qvVkIamogirZ",
        "colab_type": "code",
        "colab": {
          "base_uri": "https://localhost:8080/",
          "height": 51
        },
        "outputId": "c1b7fa19-4ae7-4515-f7a1-099178ebabe0"
      },
      "source": [
        "# reverse(): Used to reverse the given array\n",
        "\n",
        "import array\n",
        "A = array.array('i', [1, 2, 3, 4, 5, 6])\n",
        "\n",
        "A.reverse()\n",
        "print(A)\n",
        "\n",
        "# OR\n",
        "\n",
        "for i in range(0,len(A)):\n",
        "  print(A[i], end =\", \")\n"
      ],
      "execution_count": 16,
      "outputs": [
        {
          "output_type": "stream",
          "text": [
            "array('i', [6, 5, 4, 3, 2, 1])\n",
            "6, 5, 4, 3, 2, 1, "
          ],
          "name": "stdout"
        }
      ]
    },
    {
      "cell_type": "markdown",
      "metadata": {
        "id": "AKUdo967izn0",
        "colab_type": "text"
      },
      "source": [
        "# **Important Functions in Arrays :**\n",
        "\n",
        "1.   typecode\n",
        "2.   itemsize\n",
        "3.   buffer_info() \n",
        "4.   count()\n",
        "5.   extend(arr)\n",
        "6.   fromlist(list)\n",
        "7.   tolist()\n",
        "\n",
        "\n"
      ]
    },
    {
      "cell_type": "code",
      "metadata": {
        "id": "fGoMxFPJjHWx",
        "colab_type": "code",
        "colab": {
          "base_uri": "https://localhost:8080/",
          "height": 34
        },
        "outputId": "5ffd89ff-8bae-457e-904d-de2c0b69973e"
      },
      "source": [
        "# typecode: This function retuens the data type by which array is initialized\n",
        "\n",
        "import array\n",
        "A = array.array('i', [1, 2, 3, 4])\n",
        "\n",
        "print(A.typecode)"
      ],
      "execution_count": 17,
      "outputs": [
        {
          "output_type": "stream",
          "text": [
            "i\n"
          ],
          "name": "stdout"
        }
      ]
    },
    {
      "cell_type": "code",
      "metadata": {
        "id": "EJ9BhWYfk1Xe",
        "colab_type": "code",
        "colab": {
          "base_uri": "https://localhost:8080/",
          "height": 34
        },
        "outputId": "5a72a4f1-1020-4ece-fa23-9d5bb9be15a3"
      },
      "source": [
        "# itemsize: The function retuens the size in bytes of single array element\n",
        "\n",
        "import array\n",
        "A = array.array('i', [1, 2, 3, 4])\n",
        "\n",
        "print(A.itemsize)"
      ],
      "execution_count": 18,
      "outputs": [
        {
          "output_type": "stream",
          "text": [
            "4\n"
          ],
          "name": "stdout"
        }
      ]
    },
    {
      "cell_type": "code",
      "metadata": {
        "id": "Mplk6emjlKZs",
        "colab_type": "code",
        "colab": {
          "base_uri": "https://localhost:8080/",
          "height": 34
        },
        "outputId": "09c84be4-47be-4301-a9bb-c3dbfa9b0a4d"
      },
      "source": [
        "# buffer_info(): Returns a tuple representing the address in which array is stored and number of elements in it\n",
        "\n",
        "import array\n",
        "A = array.array('i', [4, 1, 3, 2])\n",
        "\n",
        "print(A.buffer_info)"
      ],
      "execution_count": 19,
      "outputs": [
        {
          "output_type": "stream",
          "text": [
            "<built-in method buffer_info of array.array object at 0x7fe3209bd630>\n"
          ],
          "name": "stdout"
        }
      ]
    },
    {
      "cell_type": "code",
      "metadata": {
        "id": "Ko6iVW8qlo0i",
        "colab_type": "code",
        "colab": {
          "base_uri": "https://localhost:8080/",
          "height": 34
        },
        "outputId": "aef2b836-c2fb-4e1c-aa0d-bddc307c8e3a"
      },
      "source": [
        "# count(): The function counts no. of occurance of given element in the array\n",
        "\n",
        "import array\n",
        "A = array.array('i', [1, 2, 3, 4, 1, 2, 7, 2, 5, 3, 9, 2])\n",
        "\n",
        "A.count(2)\n"
      ],
      "execution_count": 20,
      "outputs": [
        {
          "output_type": "execute_result",
          "data": {
            "text/plain": [
              "4"
            ]
          },
          "metadata": {
            "tags": []
          },
          "execution_count": 20
        }
      ]
    },
    {
      "cell_type": "code",
      "metadata": {
        "id": "QAewjQaamABJ",
        "colab_type": "code",
        "colab": {
          "base_uri": "https://localhost:8080/",
          "height": 34
        },
        "outputId": "446e0800-e1b7-46b2-c967-5609e85dc4ea"
      },
      "source": [
        "# extend(array): This function appends a whole array mentioned in its argument into a specified  array\n",
        "\n",
        "import array\n",
        "A = array.array('i', [4, 1, 3, 2])\n",
        "B = array.array('i', [7, 8, 9, 10])\n",
        "\n",
        "A.extend(B)\n",
        "print(A)\n"
      ],
      "execution_count": 22,
      "outputs": [
        {
          "output_type": "stream",
          "text": [
            "array('i', [4, 1, 3, 2, 7, 8, 9, 10])\n"
          ],
          "name": "stdout"
        }
      ]
    },
    {
      "cell_type": "code",
      "metadata": {
        "id": "vP6LE6PXmxM7",
        "colab_type": "code",
        "colab": {
          "base_uri": "https://localhost:8080/",
          "height": 34
        },
        "outputId": "5222c551-5751-4c72-f9e0-117f6fecd6d5"
      },
      "source": [
        "# fromlist(): This function is used to append a given list at the end of an array\n",
        "\n",
        "import array\n",
        "A = array.array('i', [1, 2, 3, 4])\n",
        "\n",
        "L = [5, 6, 7, 8 , 9 ,10]\n",
        "\n",
        "A.fromlist(L)\n",
        "print(A)\n"
      ],
      "execution_count": 24,
      "outputs": [
        {
          "output_type": "stream",
          "text": [
            "array('i', [1, 2, 3, 4, 5, 6, 7, 8, 9, 10])\n"
          ],
          "name": "stdout"
        }
      ]
    },
    {
      "cell_type": "code",
      "metadata": {
        "id": "zmje8zx-nMFO",
        "colab_type": "code",
        "colab": {
          "base_uri": "https://localhost:8080/",
          "height": 34
        },
        "outputId": "f7dd47f6-a8ef-4151-9f8a-e93d35663172"
      },
      "source": [
        "# tolist(): The function is used to transform an array in a list\n",
        "\n",
        "import array\n",
        "A = array.array('i', [4, 1, 3, 2])\n",
        "\n",
        "list_L1 = A.tolist()\n",
        "print(list_L1)"
      ],
      "execution_count": 26,
      "outputs": [
        {
          "output_type": "stream",
          "text": [
            "[4, 1, 3, 2]\n"
          ],
          "name": "stdout"
        }
      ]
    }
  ]
}