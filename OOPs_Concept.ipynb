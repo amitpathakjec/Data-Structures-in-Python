{
  "nbformat": 4,
  "nbformat_minor": 0,
  "metadata": {
    "colab": {
      "name": "OOPs_Concept.ipynb",
      "provenance": [],
      "authorship_tag": "ABX9TyM6IGPioeR84ns0tL55RRxu",
      "include_colab_link": true
    },
    "kernelspec": {
      "name": "python3",
      "display_name": "Python 3"
    },
    "language_info": {
      "name": "python"
    }
  },
  "cells": [
    {
      "cell_type": "markdown",
      "metadata": {
        "id": "view-in-github",
        "colab_type": "text"
      },
      "source": [
        "<a href=\"https://colab.research.google.com/github/amitpathakjec/Data-Structures-in-Python/blob/master/OOPs_Concept.ipynb\" target=\"_parent\"><img src=\"https://colab.research.google.com/assets/colab-badge.svg\" alt=\"Open In Colab\"/></a>"
      ]
    },
    {
      "cell_type": "code",
      "metadata": {
        "colab": {
          "base_uri": "https://localhost:8080/"
        },
        "id": "viXDQZZfomv0",
        "outputId": "bfeb38ef-49a0-4929-d92a-27d94f9df3a8"
      },
      "source": [
        "class test:\n",
        "  '''This class is developed for demo purpose'''\n",
        "\n",
        "print(test.__doc__)\n",
        "help(test)  "
      ],
      "execution_count": null,
      "outputs": [
        {
          "output_type": "stream",
          "name": "stdout",
          "text": [
            "This class is developed for demo purpose\n",
            "Help on class test in module __main__:\n",
            "\n",
            "class test(builtins.object)\n",
            " |  This class is developed for demo purpose\n",
            " |  \n",
            " |  Data descriptors defined here:\n",
            " |  \n",
            " |  __dict__\n",
            " |      dictionary for instance variables (if defined)\n",
            " |  \n",
            " |  __weakref__\n",
            " |      list of weak references to the object (if defined)\n",
            "\n"
          ]
        }
      ]
    },
    {
      "cell_type": "code",
      "metadata": {
        "colab": {
          "base_uri": "https://localhost:8080/"
        },
        "id": "-zgzCz27or0h",
        "outputId": "c66ba1a9-8821-4ff9-f6b5-c0afe66d7716"
      },
      "source": [
        "class student:\n",
        "  def __init__(self):\n",
        "    self.name = \"Amit\"\n",
        "    self.rollno = 101\n",
        "\n",
        "  def talk(self):\n",
        "    print('Hello my name and roll num are ',self.name,self.rollno)  \n",
        "\n",
        "s = student()\n",
        "s.talk()\n",
        "print(s.name)"
      ],
      "execution_count": null,
      "outputs": [
        {
          "output_type": "stream",
          "name": "stdout",
          "text": [
            "Hello my name and roll num are  Amit 101\n",
            "Amit\n"
          ]
        }
      ]
    },
    {
      "cell_type": "code",
      "metadata": {
        "colab": {
          "base_uri": "https://localhost:8080/"
        },
        "id": "5MWolXGDrMU2",
        "outputId": "86fac8cc-8fec-48e7-a189-242356c77ec7"
      },
      "source": [
        "class student:\n",
        "  def __init__(self,name,rollno):\n",
        "    self.name = name\n",
        "    self.rollno = rollno\n",
        "    print('self variable address ', id(self))\n",
        "  def talk(self):\n",
        "    print('Hello my name is ',self.name,' and my roll is ',self.rollno)\n",
        "\n",
        "s1 = student('Amit',101)\n",
        "s2 = student('Pushpank',201)\n",
        "\n",
        "s1.talk()\n",
        "s2.talk()\n",
        "print(s1.name)\n",
        "print(s2.rollno)\n",
        "\n",
        "print(id(s1))\n",
        "print(id(s2))"
      ],
      "execution_count": null,
      "outputs": [
        {
          "output_type": "stream",
          "name": "stdout",
          "text": [
            "self variable address  140131976253840\n",
            "self variable address  140131976256080\n",
            "Hello my name is  Amit  and my roll is  101\n",
            "Hello my name is  Pushpank  and my roll is  201\n",
            "Amit\n",
            "201\n",
            "140131976253840\n",
            "140131976256080\n"
          ]
        }
      ]
    },
    {
      "cell_type": "code",
      "metadata": {
        "colab": {
          "base_uri": "https://localhost:8080/"
        },
        "id": "wzG9H0eMssqU",
        "outputId": "99f7d971-6d05-4838-fd8b-f28ae4243b92"
      },
      "source": [
        "class test:\n",
        "  def __init__(self):\n",
        "    print('constructor')\n",
        "\n",
        "t1 = test()\n",
        "t2 = test()\n",
        "t3 = test()\n"
      ],
      "execution_count": null,
      "outputs": [
        {
          "output_type": "stream",
          "name": "stdout",
          "text": [
            "constructor\n",
            "constructor\n",
            "constructor\n"
          ]
        }
      ]
    },
    {
      "cell_type": "code",
      "metadata": {
        "colab": {
          "base_uri": "https://localhost:8080/"
        },
        "id": "WjwbH9KL4oN3",
        "outputId": "07aebd78-fde6-434e-dbf0-52f070f3474d"
      },
      "source": [
        "class movie:\n",
        "  '''This class is developed for demo purpose'''\n",
        "  def __init__(self,title,hero,heroine):   #these are just dummy variables\n",
        "    self.title = title  # these are instance variable = (self.name)\n",
        "    self.hero = hero\n",
        "    self.heroine = heroine\n",
        "  def info(self):  \n",
        "    print('Movie name is: ',self.title)\n",
        "    print('Hero name is: ',self.hero)\n",
        "    print('Heroine name is: ',self.heroine)\n",
        "\n",
        "\n",
        "list_movies = []\n",
        "while True:\n",
        "  title = input('Enter title name ')\n",
        "  hero = input('Enter hero name ')\n",
        "  heroine = input('Enter heroine name ')\n",
        "  m = movie(title,hero,heroine)\n",
        "  list_movies.append(m)\n",
        "  option = input('Do you want to add more movies? [Yes/No]')\n",
        "  if option.lower() == 'no':\n",
        "    break   \n",
        "print()    \n",
        "print('All movies info: ')\n",
        "for movie in list_movies:\n",
        "  movie.info()\n",
        "  print()\n",
        "  "
      ],
      "execution_count": null,
      "outputs": [
        {
          "output_type": "stream",
          "name": "stdout",
          "text": [
            "Enter title name S1\n",
            "Enter hero name A1\n",
            "Enter heroine name B1\n",
            "Do you want to add more movies? [Yes/No]Yes\n",
            "Enter title name S\n",
            "Enter hero name A\n",
            "Enter heroine name B\n",
            "Do you want to add more movies? [Yes/No]No\n",
            "All movies info: \n",
            "Movie name is:  S1\n",
            "Hero name is:  A1\n",
            "Heroine name is:  B1\n",
            "\n",
            "Movie name is:  S\n",
            "Hero name is:  A\n",
            "Heroine name is:  B\n",
            "\n"
          ]
        }
      ]
    },
    {
      "cell_type": "code",
      "metadata": {
        "id": "ha2n6vrHCDmK"
      },
      "source": [
        "class student:\n",
        "  school_name = 'Durgasoft' #static variable\n",
        "  def __init__(self,name,rollno):\n",
        "    self.name = name #instance variable\n",
        "    self.rollno = rollno #instance variable\n",
        "  def talk(self):\n",
        "    x = 2 #local variable                                \n",
        "    for i in range(1,x):\n",
        "      print('Hello my name and rollno is: ',name,rollno) \n",
        "    "
      ],
      "execution_count": null,
      "outputs": []
    },
    {
      "cell_type": "code",
      "metadata": {
        "colab": {
          "base_uri": "https://localhost:8080/"
        },
        "id": "8cV2aWMt5lWx",
        "outputId": "4bf8592b-ba15-4c0a-b4a6-22882820579a"
      },
      "source": [
        "class test:\n",
        "  def __init__(self):\n",
        "    self.a = 10\n",
        "    self.b = 20\n",
        "  \n",
        "  def m1(self):\n",
        "    self.c = 30\n",
        "\n",
        "t1 = test() # a,b added to object\n",
        "t1.m1() # c added to object\n",
        "t1.d = 40 # d added to object\n",
        "print(t1.__dict__)    "
      ],
      "execution_count": null,
      "outputs": [
        {
          "output_type": "stream",
          "name": "stdout",
          "text": [
            "{'a': 10, 'b': 20, 'c': 30, 'd': 40}\n"
          ]
        }
      ]
    },
    {
      "cell_type": "code",
      "metadata": {
        "colab": {
          "base_uri": "https://localhost:8080/"
        },
        "id": "8e2OKMCl6JqB",
        "outputId": "a8e54c12-54e3-456c-c046-50e5790e9156"
      },
      "source": [
        "# Accessing the instance variable\n",
        "\n",
        "class test:\n",
        "  \n",
        "  def __init__(self):\n",
        "    self.a = 10\n",
        "    self.b = 20\n",
        "  \n",
        "  def display(self):\n",
        "    print(self.a)\n",
        "    print(self.b)\n",
        "\n",
        "  def m1(self):\n",
        "    del self.b\n",
        "    \n",
        "t1 = test() \n",
        "print(t1.a)\n",
        "print(t1.b)\n",
        "print()\n",
        "t1.m1()\n",
        "print(t1.__dict__)      "
      ],
      "execution_count": null,
      "outputs": [
        {
          "output_type": "stream",
          "name": "stdout",
          "text": [
            "10\n",
            "20\n",
            "\n",
            "{'a': 10}\n"
          ]
        }
      ]
    },
    {
      "cell_type": "code",
      "metadata": {
        "colab": {
          "base_uri": "https://localhost:8080/"
        },
        "id": "KkC6IBWB-eEl",
        "outputId": "2275662e-1404-415b-f3db-22e7719b6a9c"
      },
      "source": [
        "# Various places to declare static(class level) variable\n",
        "class test:\n",
        "  a = 10\n",
        "  def __init__(self):\n",
        "    test.b = 20\n",
        "  def m1(self):\n",
        "    test.c = 30  \n",
        "  @classmethod\n",
        "  def m2(cls):\n",
        "    cls.d = 40\n",
        "    test.e = 50  \n",
        "  @staticmethod\n",
        "  def m3():\n",
        "    test.f = 60  \n",
        "\n",
        "t1 = test()\n",
        "t1.m1()\n",
        "test.m2()\n",
        "test.m3()\n",
        "test.g = 70\n",
        "print(t1.__dict__)"
      ],
      "execution_count": null,
      "outputs": [
        {
          "output_type": "stream",
          "name": "stdout",
          "text": [
            "{}\n"
          ]
        }
      ]
    },
    {
      "cell_type": "code",
      "metadata": {
        "colab": {
          "base_uri": "https://localhost:8080/"
        },
        "id": "q1VLsLMPmoLu",
        "outputId": "b683717c-a252-4c37-d6f3-c426c001f1ec"
      },
      "source": [
        "class customer:\n",
        "  '''Class developed to describe bank operations'''\n",
        "  bankname = 'Bank of America'\n",
        "  def __init__(self,name,balance=0.0):\n",
        "    self.name = name\n",
        "    self.balance = balance\n",
        "  def deposite(self,amt):\n",
        "    self.balance += amt\n",
        "    print('Balance is ',self.balance)  \n",
        "  def withdraw(self,amt):\n",
        "    if amt > self.balance:\n",
        "      print('Insufficient balance')\n",
        "    else:\n",
        "      self.balance -=amt\n",
        "      print('Balance is ',self.balance)\n",
        "\n",
        "print('Welcome to ', customer.bankname)\n",
        "name = input('Enter your name : ')\n",
        "c = customer(name)\n",
        "while True:\n",
        "  print('D: deposit / E : exit / W : withdraw')\n",
        "  option = input('Choose your option')\n",
        "  if option.lower() == 'd':\n",
        "    amt = int(input('Enter amount to deposite : '))\n",
        "    c.deposite(amt)\n",
        "  elif option.lower() == 'w':\n",
        "    amt = int(input('Enter amount to withdraw : '))\n",
        "    c.withdraw(amt)\n",
        "  elif option.lower() == 'e':\n",
        "    print('Thanks for banking')\n",
        "    break\n",
        "  else:\n",
        "    print('Enter a valid option')      "
      ],
      "execution_count": null,
      "outputs": [
        {
          "output_type": "stream",
          "name": "stdout",
          "text": [
            "Welcome to  Bank of America\n",
            "Enter your name : Amit\n",
            "D: deposit / E : exit / W : withdraw\n",
            "Choose your optionD\n",
            "Enter amount to deposite : 1000\n",
            "Balance is  1000.0\n",
            "D: deposit / E : exit / W : withdraw\n",
            "Choose your optionW\n",
            "Enter amount to withdraw : 500\n",
            "Balance is  500.0\n",
            "D: deposit / E : exit / W : withdraw\n",
            "Choose your option500\n",
            "Enter a valid option\n",
            "D: deposit / E : exit / W : withdraw\n",
            "Choose your optionW\n",
            "Enter amount to withdraw : 100\n",
            "Balance is  400.0\n",
            "D: deposit / E : exit / W : withdraw\n",
            "Choose your option100\n",
            "Enter a valid option\n",
            "D: deposit / E : exit / W : withdraw\n",
            "Choose your optionW\n",
            "Enter amount to withdraw : 100\n",
            "Balance is  300.0\n",
            "D: deposit / E : exit / W : withdraw\n",
            "Choose your optionW\n",
            "Enter amount to withdraw : 400\n",
            "Insufficient balance\n",
            "D: deposit / E : exit / W : withdraw\n",
            "Choose your optionE\n",
            "Thanks for banking\n"
          ]
        }
      ]
    },
    {
      "cell_type": "code",
      "metadata": {
        "id": "AqLqelY_6g0n",
        "colab": {
          "base_uri": "https://localhost:8080/"
        },
        "outputId": "3a68f706-9721-485d-b352-821a18d3a131"
      },
      "source": [
        "# Accessing other class members\n",
        "class employee:\n",
        "  def __init__(self,name,sal):\n",
        "    self.name = name\n",
        "    self.sal = sal\n",
        "  def display(self):\n",
        "    print('Name is ',self.name)\n",
        "    print('Salary is ',self.sal)\n",
        "\n",
        "emp1 = employee('Amit',50000)\n",
        "emp1.display()\n",
        "print()\n",
        "\n",
        "class manager:\n",
        "  def updateSal(emp):\n",
        "    emp.sal = emp.sal + 10000\n",
        "    emp.display()\n",
        "\n",
        "manager.updateSal(emp1)\n"
      ],
      "execution_count": null,
      "outputs": [
        {
          "output_type": "stream",
          "name": "stdout",
          "text": [
            "Name is  Amit\n",
            "Salary is  50000\n",
            "\n",
            "Name is  Amit\n",
            "Salary is  60000\n"
          ]
        }
      ]
    },
    {
      "cell_type": "code",
      "metadata": {
        "colab": {
          "base_uri": "https://localhost:8080/"
        },
        "id": "1NvX3fIrA9HB",
        "outputId": "b01173dd-8031-4809-a237-7482654e73cf"
      },
      "source": [
        "# Nesting of inner class\n",
        "\n",
        "class outer:\n",
        "  def __init__(self):\n",
        "    print('outer class object. creation')\n",
        "  class inner:\n",
        "    def __init__(self):\n",
        "      print('inner class object creation')\n",
        "    class innerinner:\n",
        "      def __init__(self):\n",
        "        print('inner inner class obj creation')\n",
        "      def m1(self):\n",
        "        print('Nested inner inner class method')\n",
        "\n",
        "# calling nested inner class\n",
        "#outer().inner().innerinner().m1()\n",
        "o = outer()\n",
        "i = o.inner()\n",
        "nested = i.innerinner()\n",
        "nested.m1()"
      ],
      "execution_count": null,
      "outputs": [
        {
          "output_type": "stream",
          "name": "stdout",
          "text": [
            "outer class object. creation\n",
            "inner class object creation\n",
            "inner inner class obj creation\n",
            "Nested inner inner class method\n"
          ]
        }
      ]
    },
    {
      "cell_type": "code",
      "metadata": {
        "colab": {
          "base_uri": "https://localhost:8080/"
        },
        "id": "ou0Jh3aEDU9c",
        "outputId": "271fa2d2-f8fc-4bc3-ef1f-5f4b206f3218"
      },
      "source": [
        "class Human:\n",
        "  def __init__(self,name):\n",
        "    self.name = name\n",
        "    self.head = self.Head() # craetion of head object. on creation ob human obj\n",
        "    print('Human object creation')\n",
        "  class Head:\n",
        "    def __init__(self):\n",
        "      print('Head object creation')\n",
        "      self.brain = self.Brain() # creation of brain obj on creation of head obj\n",
        "    class Brain:\n",
        "      def __init__(self):\n",
        "        print('Brain object creation')    \n",
        "      def think(self):\n",
        "        print('Thinking....')  \n",
        "\n",
        "Human('Amit').Head().Brain().think()"
      ],
      "execution_count": null,
      "outputs": [
        {
          "output_type": "stream",
          "name": "stdout",
          "text": [
            "Head object creation\n",
            "Brain object creation\n",
            "Human object creation\n",
            "Head object creation\n",
            "Brain object creation\n",
            "Brain object creation\n",
            "Thinking....\n"
          ]
        }
      ]
    },
    {
      "cell_type": "code",
      "metadata": {
        "colab": {
          "base_uri": "https://localhost:8080/"
        },
        "id": "ff4t4Ir8FLnE",
        "outputId": "e26e6a88-34a8-4b54-dc25-2cc3aed917e2"
      },
      "source": [
        "year = int(input())\n",
        "class person:\n",
        "  def __init__(self,name):\n",
        "    self.name = name\n",
        "    print('person obj creation of ',self.name)\n",
        "    self.Dob = self.Dob(year)\n",
        "   \n",
        "  class Dob:\n",
        "    def __init__(self,year):\n",
        "      self.year = year\n",
        "      print('Dob object created')\n",
        "      print('DOB is ', self.year)\n",
        "      pass\n",
        "\n",
        "P = person('Amit')\n"
      ],
      "execution_count": null,
      "outputs": [
        {
          "output_type": "stream",
          "name": "stdout",
          "text": [
            "16\n",
            "person obj creation of  Amit\n",
            "Dob object created\n",
            "DOB is  16\n"
          ]
        }
      ]
    },
    {
      "cell_type": "code",
      "metadata": {
        "colab": {
          "base_uri": "https://localhost:8080/"
        },
        "id": "yEMGmkQgEDYC",
        "outputId": "12b72035-28b8-4709-dcc2-7550a06a32ba"
      },
      "source": [
        "# nesting of method\n",
        "class Test:\n",
        "  def m1(self):\n",
        "    def calc(a,b):\n",
        "      print('sum ',a+b)\n",
        "      print('avg', (a+b)/2)\n",
        "      print('product', a*b)\n",
        "      print()\n",
        "    calc(10,20)\n",
        "    calc(1,3)\n",
        "    calc(100,100)\n",
        "\n",
        "t = Test()\n",
        "t.m1()   "
      ],
      "execution_count": null,
      "outputs": [
        {
          "output_type": "stream",
          "name": "stdout",
          "text": [
            "sum  30\n",
            "avg 15.0\n",
            "product 200\n",
            "\n",
            "sum  4\n",
            "avg 2.0\n",
            "product 3\n",
            "\n",
            "sum  200\n",
            "avg 100.0\n",
            "product 10000\n",
            "\n"
          ]
        }
      ]
    },
    {
      "cell_type": "code",
      "metadata": {
        "colab": {
          "base_uri": "https://localhost:8080/"
        },
        "id": "GBGZeQNKNoK3",
        "outputId": "a7b51357-d4e6-4467-8556-fb4b01a7ee47"
      },
      "source": [
        "import gc\n",
        "print(gc.isenabled())\n",
        "print()\n",
        "gc.enable()\n",
        "print(gc.isenabled())"
      ],
      "execution_count": null,
      "outputs": [
        {
          "output_type": "stream",
          "name": "stdout",
          "text": [
            "True\n",
            "\n",
            "True\n"
          ]
        }
      ]
    },
    {
      "cell_type": "code",
      "metadata": {
        "colab": {
          "base_uri": "https://localhost:8080/"
        },
        "id": "eILruoiFP2r_",
        "outputId": "e9d2732b-6626-4510-e752-dce5bff39e64"
      },
      "source": [
        "import time\n",
        "class Test:\n",
        "  def __init__(self):\n",
        "    print('object initialization')\n",
        "  def __del__(self):\n",
        "    print('Fulfilling last wish aka cleaning up before destroying')\n",
        "\n",
        "t = Test()\n",
        "t = None\n",
        "time.sleep(10)\n",
        "print('End of application')      "
      ],
      "execution_count": null,
      "outputs": [
        {
          "output_type": "stream",
          "name": "stdout",
          "text": [
            "object initialization\n",
            "Fulfilling last wish aka cleaning up before destroying\n",
            "End of application\n"
          ]
        }
      ]
    },
    {
      "cell_type": "code",
      "metadata": {
        "colab": {
          "base_uri": "https://localhost:8080/"
        },
        "id": "9q5cP9h0SBb_",
        "outputId": "509699e9-17a8-4004-fe25-33886cc906fa"
      },
      "source": [
        "# Garbage Collection and destructor\n",
        "import time\n",
        "class Test:\n",
        "  def __init__(self):\n",
        "    print('Constructor execution')\n",
        "  def __del__(self):\n",
        "    print('Destructor execution')\n",
        "\n",
        "t1 = Test()\n",
        "t2 = t1\n",
        "t3 = t1\n",
        "del t1\n",
        "time.sleep(10)\n",
        "print('Object not destroyed after deleting t1')\n",
        "print()\n",
        "\n",
        "del t2\n",
        "time.sleep(10)\n",
        "print('Object not destroyed after deleting t2 as well')\n",
        "print()\n",
        "\n",
        "print('Deleting last reference variable')\n",
        "del t3\n",
        "time.sleep(10)\n",
        "print('Object destroyed!')"
      ],
      "execution_count": null,
      "outputs": [
        {
          "output_type": "stream",
          "name": "stdout",
          "text": [
            "Constructor execution\n",
            "Object not destroyed after deleting t1\n",
            "\n",
            "Object not destroyed after deleting t2 as well\n",
            "\n",
            "Deleting last reference variable\n",
            "Destructor execution\n",
            "Object destroyed!\n"
          ]
        }
      ]
    },
    {
      "cell_type": "code",
      "metadata": {
        "colab": {
          "base_uri": "https://localhost:8080/"
        },
        "id": "tIjPS7XqTy2z",
        "outputId": "71e60113-1baa-4ff2-e802-a29e921aed03"
      },
      "source": [
        "import time\n",
        "class Test:\n",
        "  def __init__(self):\n",
        "    print('constructor. execution')\n",
        "  def __del__(self):\n",
        "    print('destructor execution')\n",
        "\n",
        "L = [Test(),Test(),Test()]   \n",
        "#print('')\n",
        "#print('making eligible for GC')   \n",
        "\n",
        "#del L\n",
        "time.sleep(10)\n",
        "print('End of application')\n",
        "\n",
        "# Although it is suppoesed to call destructor executed but its not happening maybe its the compiler!! \n"
      ],
      "execution_count": null,
      "outputs": [
        {
          "output_type": "stream",
          "name": "stdout",
          "text": [
            "constructor. execution\n",
            "constructor. execution\n",
            "constructor. execution\n",
            "End of application\n"
          ]
        }
      ]
    },
    {
      "cell_type": "code",
      "metadata": {
        "id": "2V0cKnNeVQ-W"
      },
      "source": [
        "class Test:\n",
        "  def __init__(self):\n",
        "    print('constructor. execution')\n",
        "  def __del__(self):\n",
        "    print('destructor execution')\n",
        "\n",
        "t1 = Test()\n",
        "del t1 #Object and reference variable both deleted\n",
        "\n",
        "t2 = Test()\n",
        "t2 = None #Only the object is deleted"
      ],
      "execution_count": null,
      "outputs": []
    },
    {
      "cell_type": "code",
      "metadata": {
        "colab": {
          "base_uri": "https://localhost:8080/"
        },
        "id": "zSizih5_HX9P",
        "outputId": "8d451015-9693-46eb-a84d-e569ff2659d7"
      },
      "source": [
        "class Engine:\n",
        "  def m1(self):\n",
        "    print('This is a engine functionality')\n",
        "class Car:\n",
        "  def __init__(self):\n",
        "    self.engine = Engine()\n",
        "  def m2(self):\n",
        "    print('Car required engine funtionality')\n",
        "    self.engine.m1()\n",
        "\n",
        "c = Car()\n",
        "c.m2()\n"
      ],
      "execution_count": null,
      "outputs": [
        {
          "output_type": "stream",
          "name": "stdout",
          "text": [
            "Car required engine funtionality\n",
            "This is a engine functionality\n"
          ]
        }
      ]
    },
    {
      "cell_type": "code",
      "metadata": {
        "colab": {
          "base_uri": "https://localhost:8080/"
        },
        "id": "njJ0Y28YJw_U",
        "outputId": "148391bb-549d-4a10-d7f3-409cb2346930"
      },
      "source": [
        "class C1:\n",
        "  def m1(self):\n",
        "    print()\n",
        "    print('This belongs to 1st class and if it is being printed then tada!!')\n",
        "\n",
        "class C2:\n",
        "  def __init__(self):\n",
        "    print('Class 2 object initialization is happening')\n",
        "    self.c1 = C1()\n",
        "\n",
        "  def m2(self):\n",
        "    print('Now Class 2 method is being executed')\n",
        "    self.c1.m1()\n",
        "\n",
        "obj = C2()\n",
        "obj.m2()          "
      ],
      "execution_count": null,
      "outputs": [
        {
          "output_type": "stream",
          "name": "stdout",
          "text": [
            "Class 2 object initialization is happening\n",
            "Now Class 2 method is being executed\n",
            "\n",
            "This belongs to 1st class and if it is being printed then tada!!\n"
          ]
        }
      ]
    },
    {
      "cell_type": "code",
      "metadata": {
        "colab": {
          "base_uri": "https://localhost:8080/"
        },
        "id": "zLPVEwL8K_7x",
        "outputId": "cb6349e4-5cbd-4728-db08-096f707a6e1e"
      },
      "source": [
        "\n",
        "class Car:\n",
        "  def __init__(self,name,model,color):\n",
        "    self.name = name\n",
        "    self.model = model\n",
        "    self.color = color\n",
        "  def info(self):\n",
        "    print('car name : {},model : {}, color : {}'.format(self.name,self.model,self.color))\n",
        "\n",
        "class emp:\n",
        "  def __init__(self,name,car):\n",
        "    self.ename = name\n",
        "    self.car = Car('Benz','s_class','Black')\n",
        "  def empInfo(self):\n",
        "    print('Employee name',self.ename)\n",
        "    print('Emp car info: ')\n",
        "    self.car.info()\n",
        "\n",
        "\n",
        "e1 = emp('Amit','Benz')\n",
        "e1.empInfo()      "
      ],
      "execution_count": null,
      "outputs": [
        {
          "output_type": "stream",
          "name": "stdout",
          "text": [
            "Employee name Amit\n",
            "Emp car info: \n",
            "car name : Benz,model : s_class, color : Black\n"
          ]
        }
      ]
    },
    {
      "cell_type": "code",
      "metadata": {
        "colab": {
          "base_uri": "https://localhost:8080/"
        },
        "id": "fO6B0NKpQx0h",
        "outputId": "3a980618-c273-4efd-b222-5a718f8169c9"
      },
      "source": [
        "# Has-A-Relation example 03\n",
        "class sports_news:\n",
        "  def m1(self):\n",
        "    print('This is SPORTS NEWS')\n",
        "\n",
        "class politics_news:\n",
        "  def m2(self):\n",
        "    print('This is POLITICS NEWS')\n",
        "\n",
        "class movies_news:\n",
        "  def m3(self):\n",
        "    print('This is MOVIES NEWS')\n",
        "\n",
        "class amitNews:\n",
        "  def __init__(self):\n",
        "    print('Welcome to AmitNews')\n",
        "    self.sports_news = sports_news()\n",
        "    self.movies_news = movies_news()\n",
        "    self.politics_news = politics_news()\n",
        "  def callNews(self):\n",
        "    self.sports_news.m1()\n",
        "    self.movies_news.m3()\n",
        "    self.politics_news.m2()\n",
        "\n",
        "a = amitNews()\n",
        "a.callNews()    \n",
        "\n",
        "      "
      ],
      "execution_count": null,
      "outputs": [
        {
          "output_type": "stream",
          "name": "stdout",
          "text": [
            "Welcome to AmitNews\n",
            "This is SPORTS NEWS\n",
            "This is MOVIES NEWS\n",
            "This is POLITICS NEWS\n"
          ]
        }
      ]
    },
    {
      "cell_type": "code",
      "metadata": {
        "colab": {
          "base_uri": "https://localhost:8080/"
        },
        "id": "9I6FCVeSZLKr",
        "outputId": "212560bb-7e6c-46c9-fab6-acea95efec94"
      },
      "source": [
        "class person:\n",
        "  def __init__(self,name,age):\n",
        "    self.name = name\n",
        "    self.age = age\n",
        "  def eats(self):\n",
        "    print('Eats Biryani')\n",
        "class emp(person):\n",
        "  def __init__(self,name,age,company,sal):\n",
        "    super().__init__(name,age)\n",
        "    self.company = company\n",
        "    self.sal = sal\n",
        "  def emp_info(self):\n",
        "    print('Emp name/age/company/salary are : ',self.name,self.age,self.company,self.age)\n",
        "\n",
        "e1 = emp('Amit',23,'Facebook',500000)\n",
        "e1.eats()\n",
        "e1.emp_info()            "
      ],
      "execution_count": null,
      "outputs": [
        {
          "output_type": "stream",
          "name": "stdout",
          "text": [
            "Eats Biryani\n",
            "Emp name/age/company/salary are :  Amit 23 Facebook 23\n"
          ]
        }
      ]
    },
    {
      "cell_type": "code",
      "metadata": {
        "colab": {
          "base_uri": "https://localhost:8080/"
        },
        "id": "5fwfyz3d1iYM",
        "outputId": "a6a109ae-e243-4078-8a52-d861aaca83ab"
      },
      "source": [
        "class book:\n",
        "  def __init__(self,pages):\n",
        "    self.pages = pages\n",
        "  def __add__(self,other):\n",
        "    total_pages = self.pages + other.pages\n",
        "    return total_pages\n",
        "B1 = book(100)\n",
        "B2 = book(200)\n",
        "\n",
        "print(B1+B2)"
      ],
      "execution_count": null,
      "outputs": [
        {
          "output_type": "stream",
          "name": "stdout",
          "text": [
            "300\n"
          ]
        }
      ]
    },
    {
      "cell_type": "code",
      "metadata": {
        "colab": {
          "base_uri": "https://localhost:8080/"
        },
        "id": "AdtLUa1ad4jt",
        "outputId": "fc01482f-f24c-44c4-80b4-ebef68bb01d3"
      },
      "source": [
        "class student:\n",
        "  def __init__(self,name,marks):\n",
        "    self.name = name \n",
        "    self.marks = marks\n",
        "  def __add__(self,other):\n",
        "    total_marks = self.marks + other.marks  \n",
        "    return total_marks\n",
        "\n",
        "s1 = student('Amit',100)\n",
        "s2 = student('Shivam',120)\n",
        "print('Commbined marks of ',s1.name, ' and ',s2.name,' are: ')\n",
        "print(s1+s2)"
      ],
      "execution_count": null,
      "outputs": [
        {
          "output_type": "stream",
          "name": "stdout",
          "text": [
            "Commbined marks of  Amit  and  Shivam  are: \n",
            "220\n"
          ]
        }
      ]
    },
    {
      "cell_type": "code",
      "metadata": {
        "colab": {
          "base_uri": "https://localhost:8080/"
        },
        "id": "NewKDGpXg69q",
        "outputId": "2d4b57f8-3b1b-4a71-99eb-73fa1f6d6834"
      },
      "source": [
        "#. Checking. grater than or equal to\n",
        "class student:\n",
        "  def __init__(self,name,mark):\n",
        "    self.name = name\n",
        "    self.mark = mark\n",
        "  def __ge__(self,other):\n",
        "    if(self.mark >= other.mark):\n",
        "      return True\n",
        "    else: \n",
        "      return False  \n",
        "\n",
        "s1 = student('Amit',120)\n",
        "s2 = student('Shivam',190)\n",
        "\n",
        "print(s1.name, ' marks are greater or equal to' , s2.name)\n",
        "print(s1>=s2)"
      ],
      "execution_count": null,
      "outputs": [
        {
          "output_type": "stream",
          "name": "stdout",
          "text": [
            "Amit  marks are greater or equal to Shivam\n",
            "False\n"
          ]
        }
      ]
    },
    {
      "cell_type": "code",
      "metadata": {
        "colab": {
          "base_uri": "https://localhost:8080/",
          "height": 225
        },
        "id": "UXFN-DRCiFi1",
        "outputId": "4ffc4a21-800d-46b7-fe6d-c09b39034319"
      },
      "source": [
        "class emp:\n",
        "  def __init__(self,name,wage):\n",
        "    self.name = name\n",
        "    self.wage = wage\n",
        "\n",
        "class timesheet:\n",
        "  def __init__(self,name,workingdays):\n",
        "    self.name = name\n",
        "    self.workingdays = workingdays\n",
        "    emp.self = e1\n",
        "  def __mul__(self,e1):\n",
        "    return self.workingdays * e1.wage\n",
        "e1 = ('Amit',5000)\n",
        "t1 = ('Amit',20)\n",
        "print('This month salary is: ',t1*e1)    \n",
        "# Didn't gave error in durga sir code"
      ],
      "execution_count": null,
      "outputs": [
        {
          "output_type": "error",
          "ename": "TypeError",
          "evalue": "ignored",
          "traceback": [
            "\u001b[0;31m---------------------------------------------------------------------------\u001b[0m",
            "\u001b[0;31mTypeError\u001b[0m                                 Traceback (most recent call last)",
            "\u001b[0;32m<ipython-input-15-436f292f9f7e>\u001b[0m in \u001b[0;36m<module>\u001b[0;34m()\u001b[0m\n\u001b[1;32m     13\u001b[0m \u001b[0me1\u001b[0m \u001b[0;34m=\u001b[0m \u001b[0;34m(\u001b[0m\u001b[0;34m'Amit'\u001b[0m\u001b[0;34m,\u001b[0m\u001b[0;36m5000\u001b[0m\u001b[0;34m)\u001b[0m\u001b[0;34m\u001b[0m\u001b[0;34m\u001b[0m\u001b[0m\n\u001b[1;32m     14\u001b[0m \u001b[0mt1\u001b[0m \u001b[0;34m=\u001b[0m \u001b[0;34m(\u001b[0m\u001b[0;34m'Amit'\u001b[0m\u001b[0;34m,\u001b[0m\u001b[0;36m20\u001b[0m\u001b[0;34m)\u001b[0m\u001b[0;34m\u001b[0m\u001b[0;34m\u001b[0m\u001b[0m\n\u001b[0;32m---> 15\u001b[0;31m \u001b[0mprint\u001b[0m\u001b[0;34m(\u001b[0m\u001b[0;34m'This month salary is: '\u001b[0m\u001b[0;34m,\u001b[0m\u001b[0mt1\u001b[0m\u001b[0;34m*\u001b[0m\u001b[0me1\u001b[0m\u001b[0;34m)\u001b[0m\u001b[0;34m\u001b[0m\u001b[0;34m\u001b[0m\u001b[0m\n\u001b[0m\u001b[1;32m     16\u001b[0m \u001b[0;31m# Didn't gave error in durga sir code\u001b[0m\u001b[0;34m\u001b[0m\u001b[0;34m\u001b[0m\u001b[0;34m\u001b[0m\u001b[0m\n",
            "\u001b[0;31mTypeError\u001b[0m: can't multiply sequence by non-int of type 'tuple'"
          ]
        }
      ]
    },
    {
      "cell_type": "code",
      "metadata": {
        "colab": {
          "base_uri": "https://localhost:8080/"
        },
        "id": "WWfN2T2DwW3v",
        "outputId": "aeee0c5d-006b-4967-fc57-cfccb915abd6"
      },
      "source": [
        "class book:\n",
        "  def __init__(self,page):\n",
        "    self.page = page\n",
        "  def __add__(self,other):\n",
        "    return book(self.page + other.page)\n",
        "  def __mul__(self,other):\n",
        "    return book(self.page*other.page)  \n",
        "  def __str__(self):\n",
        "    return 'Total number of pages are : {} '.format(self.page)\n",
        "\n",
        "B1 = book(100)\n",
        "B2 = book(200)\n",
        "B3 = book(500)\n",
        "B4 = book(500)\n",
        "\n",
        "print(B1+B2+B3+B4)\n",
        "print(B1*B2)"
      ],
      "execution_count": null,
      "outputs": [
        {
          "output_type": "stream",
          "name": "stdout",
          "text": [
            "Total number of pages are : 1300 \n",
            "Total number of pages are : 20000 \n"
          ]
        }
      ]
    },
    {
      "cell_type": "code",
      "metadata": {
        "colab": {
          "base_uri": "https://localhost:8080/",
          "height": 351
        },
        "id": "YliBEVTvilK0",
        "outputId": "7390aa0c-eb76-4ffa-ca3a-892bd3cc658a"
      },
      "source": [
        "class person:\n",
        "  def __init___(self,name,age):\n",
        "    self.name = name\n",
        "    self.age = age\n",
        "  def display(self):\n",
        "    print(self.name, self.age)\n",
        "class emp(person):\n",
        "  def __init__(self,name,age,eno,esal):\n",
        "    #self.name = name\n",
        "    #self.age = age\n",
        "    super().__init__ (name,age) #this line is correct and working in durga sir code\n",
        "    self.eno = eno\n",
        "    self.esal = esal\n",
        "  def display(self):    # overriding display() method\n",
        "    print(self.name, self.age, self.eno, self.esal)  \n",
        "    super().display()\n",
        "\n",
        "c = emp('Amit',23,12345,50000)   \n",
        "c.display()   "
      ],
      "execution_count": null,
      "outputs": [
        {
          "output_type": "error",
          "ename": "TypeError",
          "evalue": "ignored",
          "traceback": [
            "\u001b[0;31m---------------------------------------------------------------------------\u001b[0m",
            "\u001b[0;31mTypeError\u001b[0m                                 Traceback (most recent call last)",
            "\u001b[0;32m<ipython-input-8-d2eb77e308e3>\u001b[0m in \u001b[0;36m<module>\u001b[0;34m()\u001b[0m\n\u001b[1;32m     16\u001b[0m     \u001b[0msuper\u001b[0m\u001b[0;34m(\u001b[0m\u001b[0;34m)\u001b[0m\u001b[0;34m.\u001b[0m\u001b[0mdisplay\u001b[0m\u001b[0;34m(\u001b[0m\u001b[0;34m)\u001b[0m\u001b[0;34m\u001b[0m\u001b[0;34m\u001b[0m\u001b[0m\n\u001b[1;32m     17\u001b[0m \u001b[0;34m\u001b[0m\u001b[0m\n\u001b[0;32m---> 18\u001b[0;31m \u001b[0mc\u001b[0m \u001b[0;34m=\u001b[0m \u001b[0memp\u001b[0m\u001b[0;34m(\u001b[0m\u001b[0;34m'Amit'\u001b[0m\u001b[0;34m,\u001b[0m\u001b[0;36m23\u001b[0m\u001b[0;34m,\u001b[0m\u001b[0;36m12345\u001b[0m\u001b[0;34m,\u001b[0m\u001b[0;36m50000\u001b[0m\u001b[0;34m)\u001b[0m\u001b[0;34m\u001b[0m\u001b[0;34m\u001b[0m\u001b[0m\n\u001b[0m\u001b[1;32m     19\u001b[0m \u001b[0mc\u001b[0m\u001b[0;34m.\u001b[0m\u001b[0mdisplay\u001b[0m\u001b[0;34m(\u001b[0m\u001b[0;34m)\u001b[0m\u001b[0;34m\u001b[0m\u001b[0;34m\u001b[0m\u001b[0m\n",
            "\u001b[0;32m<ipython-input-8-d2eb77e308e3>\u001b[0m in \u001b[0;36m__init__\u001b[0;34m(self, name, age, eno, esal)\u001b[0m\n\u001b[1;32m      9\u001b[0m     \u001b[0;31m#self.name = name\u001b[0m\u001b[0;34m\u001b[0m\u001b[0;34m\u001b[0m\u001b[0;34m\u001b[0m\u001b[0m\n\u001b[1;32m     10\u001b[0m     \u001b[0;31m#self.age = age\u001b[0m\u001b[0;34m\u001b[0m\u001b[0;34m\u001b[0m\u001b[0;34m\u001b[0m\u001b[0m\n\u001b[0;32m---> 11\u001b[0;31m     \u001b[0msuper\u001b[0m\u001b[0;34m(\u001b[0m\u001b[0;34m)\u001b[0m\u001b[0;34m.\u001b[0m\u001b[0m__init__\u001b[0m \u001b[0;34m(\u001b[0m\u001b[0mname\u001b[0m\u001b[0;34m,\u001b[0m\u001b[0mage\u001b[0m\u001b[0;34m)\u001b[0m\u001b[0;34m\u001b[0m\u001b[0;34m\u001b[0m\u001b[0m\n\u001b[0m\u001b[1;32m     12\u001b[0m     \u001b[0mself\u001b[0m\u001b[0;34m.\u001b[0m\u001b[0meno\u001b[0m \u001b[0;34m=\u001b[0m \u001b[0meno\u001b[0m\u001b[0;34m\u001b[0m\u001b[0;34m\u001b[0m\u001b[0m\n\u001b[1;32m     13\u001b[0m     \u001b[0mself\u001b[0m\u001b[0;34m.\u001b[0m\u001b[0mesal\u001b[0m \u001b[0;34m=\u001b[0m \u001b[0mesal\u001b[0m\u001b[0;34m\u001b[0m\u001b[0;34m\u001b[0m\u001b[0m\n",
            "\u001b[0;31mTypeError\u001b[0m: object.__init__() takes exactly one argument (the instance to initialize)"
          ]
        }
      ]
    },
    {
      "cell_type": "code",
      "metadata": {
        "id": "uezxWncak4Jq"
      },
      "source": [
        ""
      ],
      "execution_count": null,
      "outputs": []
    }
  ]
}