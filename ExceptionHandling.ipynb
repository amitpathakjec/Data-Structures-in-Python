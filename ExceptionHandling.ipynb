{
  "nbformat": 4,
  "nbformat_minor": 0,
  "metadata": {
    "colab": {
      "name": "ExceptionHandling.ipynb",
      "provenance": [],
      "collapsed_sections": [],
      "authorship_tag": "ABX9TyNu7GLVn2CB9VkECbivpD17",
      "include_colab_link": true
    },
    "kernelspec": {
      "name": "python3",
      "display_name": "Python 3"
    },
    "language_info": {
      "name": "python"
    }
  },
  "cells": [
    {
      "cell_type": "markdown",
      "metadata": {
        "id": "view-in-github",
        "colab_type": "text"
      },
      "source": [
        "<a href=\"https://colab.research.google.com/github/amitpathakjec/Data-Structures-in-Python/blob/master/ExceptionHandling.ipynb\" target=\"_parent\"><img src=\"https://colab.research.google.com/assets/colab-badge.svg\" alt=\"Open In Colab\"/></a>"
      ]
    },
    {
      "cell_type": "code",
      "metadata": {
        "colab": {
          "base_uri": "https://localhost:8080/",
          "height": 135
        },
        "id": "xK7bYOsebxVJ",
        "outputId": "3839e4f7-5d56-4250-cc34-14ee338c9ec9"
      },
      "source": [
        "# syntax error\n",
        "# print\"Hi Amit\""
      ],
      "execution_count": null,
      "outputs": [
        {
          "output_type": "error",
          "ename": "SyntaxError",
          "evalue": "ignored",
          "traceback": [
            "\u001b[0;36m  File \u001b[0;32m\"<ipython-input-1-a5b665b023de>\"\u001b[0;36m, line \u001b[0;32m1\u001b[0m\n\u001b[0;31m    print\"Hi Amit\"\u001b[0m\n\u001b[0m                 ^\u001b[0m\n\u001b[0;31mSyntaxError\u001b[0m\u001b[0;31m:\u001b[0m invalid syntax\n"
          ]
        }
      ]
    },
    {
      "cell_type": "code",
      "metadata": {
        "id": "kV-GL4r2cGBb"
      },
      "source": [
        "# Runtime error"
      ],
      "execution_count": null,
      "outputs": []
    },
    {
      "cell_type": "code",
      "metadata": {
        "colab": {
          "base_uri": "https://localhost:8080/",
          "height": 225
        },
        "id": "4OwTkCFgjVEO",
        "outputId": "c6b3c1ed-27c9-4591-c5ed-460996d59d39"
      },
      "source": [
        "print('hello')\n",
        "print(10/0)\n",
        "print('Hi')"
      ],
      "execution_count": null,
      "outputs": [
        {
          "output_type": "stream",
          "name": "stdout",
          "text": [
            "hello\n"
          ]
        },
        {
          "output_type": "error",
          "ename": "ZeroDivisionError",
          "evalue": "ignored",
          "traceback": [
            "\u001b[0;31m---------------------------------------------------------------------------\u001b[0m",
            "\u001b[0;31mZeroDivisionError\u001b[0m                         Traceback (most recent call last)",
            "\u001b[0;32m<ipython-input-2-b577fcf005e2>\u001b[0m in \u001b[0;36m<module>\u001b[0;34m()\u001b[0m\n\u001b[1;32m      1\u001b[0m \u001b[0mprint\u001b[0m\u001b[0;34m(\u001b[0m\u001b[0;34m'hello'\u001b[0m\u001b[0;34m)\u001b[0m\u001b[0;34m\u001b[0m\u001b[0;34m\u001b[0m\u001b[0m\n\u001b[0;32m----> 2\u001b[0;31m \u001b[0mprint\u001b[0m\u001b[0;34m(\u001b[0m\u001b[0;36m10\u001b[0m\u001b[0;34m/\u001b[0m\u001b[0;36m0\u001b[0m\u001b[0;34m)\u001b[0m\u001b[0;34m\u001b[0m\u001b[0;34m\u001b[0m\u001b[0m\n\u001b[0m\u001b[1;32m      3\u001b[0m \u001b[0mprint\u001b[0m\u001b[0;34m(\u001b[0m\u001b[0;34m'Hi'\u001b[0m\u001b[0;34m)\u001b[0m\u001b[0;34m\u001b[0m\u001b[0;34m\u001b[0m\u001b[0m\n",
            "\u001b[0;31mZeroDivisionError\u001b[0m: division by zero"
          ]
        }
      ]
    },
    {
      "cell_type": "code",
      "metadata": {
        "colab": {
          "base_uri": "https://localhost:8080/"
        },
        "id": "emk1NQGvnPCL",
        "outputId": "afec2c09-17af-4cc1-8564-ad092939ab52"
      },
      "source": [
        "print('Hello')\n",
        "try:\n",
        "  print(10/0)\n",
        "except ZeroDivisionError:\n",
        "  print(10/2)\n",
        "print('Hi')    "
      ],
      "execution_count": null,
      "outputs": [
        {
          "output_type": "stream",
          "name": "stdout",
          "text": [
            "Hello\n",
            "5.0\n",
            "Hi\n"
          ]
        }
      ]
    },
    {
      "cell_type": "code",
      "metadata": {
        "colab": {
          "base_uri": "https://localhost:8080/"
        },
        "id": "an2ugy1HqlPM",
        "outputId": "8e91f1ac-97da-4f2f-926b-f7494d1a289c"
      },
      "source": [
        "try:\n",
        "  print(10/0)\n",
        "except ZeroDivisionError as msg:\n",
        "  print('Exception type : ', msg)\n",
        "  print('Exception type : ', type(msg))\n",
        "  print('Exception type : ', msg.__class__)\n",
        "  print('Exception type : ', msg.__class__.__name__)"
      ],
      "execution_count": null,
      "outputs": [
        {
          "output_type": "stream",
          "name": "stdout",
          "text": [
            "Exception type :  division by zero\n",
            "Exception type :  <class 'ZeroDivisionError'>\n",
            "Exception type :  <class 'ZeroDivisionError'>\n",
            "Exception type :  ZeroDivisionError\n"
          ]
        }
      ]
    },
    {
      "cell_type": "code",
      "metadata": {
        "colab": {
          "base_uri": "https://localhost:8080/"
        },
        "id": "15Lhp4F4rXSQ",
        "outputId": "3ebb687e-7970-42fa-ee1a-f8f4c9fe2b7a"
      },
      "source": [
        "try:\n",
        "  x = int(input())\n",
        "  y = int(input())\n",
        "  print('The result : ',x/y)\n",
        "except BaseException as msg:\n",
        "  print(msg)\n",
        "  print(msg.__class__)\n",
        "  print(msg.__class__.__name__)\n",
        "  print(type(msg))  "
      ],
      "execution_count": null,
      "outputs": [
        {
          "output_type": "stream",
          "name": "stdout",
          "text": [
            "10\n",
            "0\n",
            "division by zero\n",
            "<class 'ZeroDivisionError'>\n",
            "ZeroDivisionError\n",
            "<class 'ZeroDivisionError'>\n"
          ]
        }
      ]
    },
    {
      "cell_type": "code",
      "metadata": {
        "colab": {
          "base_uri": "https://localhost:8080/"
        },
        "id": "DoizKdYEs-eg",
        "outputId": "b2df6bb8-5771-4527-9619-f3d877aa9327"
      },
      "source": [
        "try:\n",
        "  x = int(input())\n",
        "  y = int(input())\n",
        "  print(x/y)\n",
        "#except ZeroDivisionError as msg:\n",
        " # print(msg)\n",
        "except ArithmeticError as msgg:\n",
        "  print(msgg)\n",
        "except ZeroDivisionError as msg:\n",
        "  print(msg)    "
      ],
      "execution_count": null,
      "outputs": [
        {
          "output_type": "stream",
          "name": "stdout",
          "text": [
            "10\n",
            "0\n",
            "division by zero\n"
          ]
        }
      ]
    },
    {
      "cell_type": "code",
      "metadata": {
        "colab": {
          "base_uri": "https://localhost:8080/"
        },
        "id": "8QXJvdeEvNo5",
        "outputId": "3038b510-c7b3-49e9-9f31-3ee488e01991"
      },
      "source": [
        "# Single except \n",
        "x = int(input())\n",
        "y = int(input())\n",
        "try:\n",
        "  print(x/y)\n",
        "except (ZeroDivisionError,ValueError) as msg:\n",
        "  print('Exception type is : ', type(msg))  "
      ],
      "execution_count": null,
      "outputs": [
        {
          "output_type": "stream",
          "name": "stdout",
          "text": [
            "10\n",
            "0\n",
            "Exception type is :  <class 'ZeroDivisionError'>\n"
          ]
        }
      ]
    },
    {
      "cell_type": "code",
      "metadata": {
        "colab": {
          "base_uri": "https://localhost:8080/"
        },
        "id": "-sSYkumv-4mF",
        "outputId": "908f4487-fdf4-4378-f45f-4698de75db41"
      },
      "source": [
        "# Default except block\n",
        "try:\n",
        "  x= int(input())\n",
        "  y= int(input())\n",
        "  print(x/y)\n",
        "except ZeroDivisionError:\n",
        "  print('ZeroDivisionError')\n",
        "# default except block\n",
        "except:      \n",
        "  print('Default except block executed please input valid input')  "
      ],
      "execution_count": null,
      "outputs": [
        {
          "output_type": "stream",
          "name": "stdout",
          "text": [
            "10\n",
            "Two\n",
            "Default except block executed please input valid input\n"
          ]
        }
      ]
    },
    {
      "cell_type": "code",
      "metadata": {
        "colab": {
          "base_uri": "https://localhost:8080/"
        },
        "id": "TuvG7wiRDwM6",
        "outputId": "9b7b5b52-284c-4e03-8aff-e466ad08ccf5"
      },
      "source": [
        "# finally block\n",
        "# No exception\n",
        "\n",
        "try:\n",
        "  print('Hello')\n",
        "except:\n",
        "  print('Hi')  \n",
        "finally:\n",
        "  print('Amit')  "
      ],
      "execution_count": null,
      "outputs": [
        {
          "output_type": "stream",
          "name": "stdout",
          "text": [
            "Hello\n",
            "Amit\n"
          ]
        }
      ]
    },
    {
      "cell_type": "code",
      "metadata": {
        "colab": {
          "base_uri": "https://localhost:8080/"
        },
        "id": "VefrtT5z_ZKA",
        "outputId": "90ac9103-c002-456f-d64e-01e73e44a64a"
      },
      "source": [
        "# Exception rised and handled\n",
        "\n",
        "try:\n",
        "  print(10/0)\n",
        "except:\n",
        "  if 10%2 == 0:\n",
        "    print('Hi')\n",
        "finally:\n",
        "  print('Amit')    "
      ],
      "execution_count": null,
      "outputs": [
        {
          "output_type": "stream",
          "name": "stdout",
          "text": [
            "Hi\n",
            "Amit\n"
          ]
        }
      ]
    },
    {
      "cell_type": "code",
      "metadata": {
        "colab": {
          "base_uri": "https://localhost:8080/",
          "height": 261
        },
        "id": "upJnhFFAEmzO",
        "outputId": "895aceb8-f7df-471e-919f-bc01c9a4978c"
      },
      "source": [
        "# Exception rised and not handled\n",
        "\n",
        "try:\n",
        "  print(10/0)\n",
        "except ValueError:\n",
        "  print(10%2)\n",
        "finally:\n",
        "  print('finally block executed')  "
      ],
      "execution_count": null,
      "outputs": [
        {
          "output_type": "stream",
          "name": "stdout",
          "text": [
            "finally block executed\n"
          ]
        },
        {
          "output_type": "error",
          "ename": "ZeroDivisionError",
          "evalue": "ignored",
          "traceback": [
            "\u001b[0;31m---------------------------------------------------------------------------\u001b[0m",
            "\u001b[0;31mZeroDivisionError\u001b[0m                         Traceback (most recent call last)",
            "\u001b[0;32m<ipython-input-15-c5bb5d76eb8a>\u001b[0m in \u001b[0;36m<module>\u001b[0;34m()\u001b[0m\n\u001b[1;32m      2\u001b[0m \u001b[0;34m\u001b[0m\u001b[0m\n\u001b[1;32m      3\u001b[0m \u001b[0;32mtry\u001b[0m\u001b[0;34m:\u001b[0m\u001b[0;34m\u001b[0m\u001b[0;34m\u001b[0m\u001b[0m\n\u001b[0;32m----> 4\u001b[0;31m   \u001b[0mprint\u001b[0m\u001b[0;34m(\u001b[0m\u001b[0;36m10\u001b[0m\u001b[0;34m/\u001b[0m\u001b[0;36m0\u001b[0m\u001b[0;34m)\u001b[0m\u001b[0;34m\u001b[0m\u001b[0;34m\u001b[0m\u001b[0m\n\u001b[0m\u001b[1;32m      5\u001b[0m \u001b[0;32mexcept\u001b[0m \u001b[0mValueError\u001b[0m\u001b[0;34m:\u001b[0m\u001b[0;34m\u001b[0m\u001b[0;34m\u001b[0m\u001b[0m\n\u001b[1;32m      6\u001b[0m   \u001b[0mprint\u001b[0m\u001b[0;34m(\u001b[0m\u001b[0;36m10\u001b[0m\u001b[0;34m%\u001b[0m\u001b[0;36m2\u001b[0m\u001b[0;34m)\u001b[0m\u001b[0;34m\u001b[0m\u001b[0;34m\u001b[0m\u001b[0m\n",
            "\u001b[0;31mZeroDivisionError\u001b[0m: division by zero"
          ]
        }
      ]
    },
    {
      "cell_type": "code",
      "metadata": {
        "id": "hRb3yKLMGYRC",
        "colab": {
          "base_uri": "https://localhost:8080/"
        },
        "outputId": "969840fa-0854-4323-d991-f235878f3f9a"
      },
      "source": [
        "# Exiting OS explicitely\n",
        "# Check next code block\n",
        "\n",
        "try:\n",
        "  print('try')\n",
        "except:\n",
        "  print('except')  \n",
        "finally:\n",
        "  print('finally')  "
      ],
      "execution_count": null,
      "outputs": [
        {
          "output_type": "stream",
          "name": "stdout",
          "text": [
            "try\n",
            "finally\n"
          ]
        }
      ]
    },
    {
      "cell_type": "code",
      "metadata": {
        "id": "nZPytyM9Gtnu"
      },
      "source": [
        "import os\n",
        "try:\n",
        "  print('try')\n",
        "  os._exit(0)\n",
        "except:\n",
        "  print('except')  \n",
        "finally:\n",
        "  print('finally')  "
      ],
      "execution_count": null,
      "outputs": []
    },
    {
      "cell_type": "code",
      "metadata": {
        "colab": {
          "base_uri": "https://localhost:8080/"
        },
        "id": "RvLDdivRqO4y",
        "outputId": "640929af-7341-4bb6-a933-0771b84ea625"
      },
      "source": [
        "# Nested try except finally\n",
        "try:\n",
        "  print('Outer try block')\n",
        "  try:\n",
        "    print('Inner try block')\n",
        "    print(10/0)\n",
        "  except ZeroDivisionError:\n",
        "    print('Inner except block')\n",
        "  finally:   \n",
        "    print('Inner finally block')\n",
        "except:\n",
        "  print('Outer except block')    \n",
        "finally:\n",
        "  print('Outer finally block')  "
      ],
      "execution_count": null,
      "outputs": [
        {
          "output_type": "stream",
          "name": "stdout",
          "text": [
            "Outer try block\n",
            "Inner try block\n",
            "Inner except block\n",
            "Inner finally block\n",
            "Outer finally block\n"
          ]
        }
      ]
    },
    {
      "cell_type": "code",
      "metadata": {
        "colab": {
          "base_uri": "https://localhost:8080/"
        },
        "id": "JsnKp1tYrzMa",
        "outputId": "1600feaf-2106-48a5-de4c-0218c820d0e3"
      },
      "source": [
        "for i in range(6):\n",
        "  print(i)\n",
        "  break\n",
        "\n",
        "else:\n",
        "  print('Done')  "
      ],
      "execution_count": null,
      "outputs": [
        {
          "output_type": "stream",
          "name": "stdout",
          "text": [
            "0\n"
          ]
        }
      ]
    },
    {
      "cell_type": "code",
      "metadata": {
        "colab": {
          "base_uri": "https://localhost:8080/"
        },
        "id": "w9Qvu-0Fwx13",
        "outputId": "0a5d4a17-2bb9-474b-dfdd-db156a50588b"
      },
      "source": [
        "# Else with try-except-finally\n",
        "try:\n",
        "  print('try')\n",
        "except:\n",
        "  print('except')  \n",
        "else:\n",
        "  print('else')  \n",
        "finally:\n",
        "  print('finally')  "
      ],
      "execution_count": null,
      "outputs": [
        {
          "output_type": "stream",
          "name": "stdout",
          "text": [
            "try\n",
            "else\n",
            "finally\n"
          ]
        }
      ]
    },
    {
      "cell_type": "code",
      "metadata": {
        "colab": {
          "base_uri": "https://localhost:8080/"
        },
        "id": "5t8661e3y7A8",
        "outputId": "c301e01c-ec48-4056-a2c3-95a6053c268e"
      },
      "source": [
        "try:\n",
        "  print('try')\n",
        "  print(10/0)\n",
        "except:\n",
        "  print('except')  \n",
        "else:\n",
        "  print('else')  \n",
        "finally:\n",
        "  print('finally')  "
      ],
      "execution_count": null,
      "outputs": [
        {
          "output_type": "stream",
          "name": "stdout",
          "text": [
            "try\n",
            "except\n",
            "finally\n"
          ]
        }
      ]
    },
    {
      "cell_type": "code",
      "metadata": {
        "id": "O-AzrG-54-Nn",
        "colab": {
          "base_uri": "https://localhost:8080/",
          "height": 261
        },
        "outputId": "72bbd9fc-adda-4b91-a3fc-ff8737426e6f"
      },
      "source": [
        "# Every exception in python is a class; so make it a child class of class Exception\n",
        "# PVM has no information about customized exception\n",
        "# we use RAISE keyword \n",
        "\n",
        "class too_YoungException(Exception):\n",
        "  def __init__(self,msg):\n",
        "    self.msg =msg\n",
        "\n",
        "class too_oldException(Exception):\n",
        "  def __init__(self,msg):\n",
        "    self.msg = msg\n",
        "\n",
        "age = int(input('Enter your age : '))\n",
        "if age>60:\n",
        "  raise too_YoungException('wait for the right time to come') \n",
        "elif age<18:\n",
        "  raise too_oldException('You are too old to get married')\n",
        "else:\n",
        "  print('You will recieve an email application, Thanks.')  "
      ],
      "execution_count": 15,
      "outputs": [
        {
          "name": "stdout",
          "output_type": "stream",
          "text": [
            "Enter your age : 11\n"
          ]
        },
        {
          "output_type": "error",
          "ename": "too_oldException",
          "evalue": "ignored",
          "traceback": [
            "\u001b[0;31m---------------------------------------------------------------------------\u001b[0m",
            "\u001b[0;31mtoo_oldException\u001b[0m                          Traceback (most recent call last)",
            "\u001b[0;32m<ipython-input-15-29c744ad7b42>\u001b[0m in \u001b[0;36m<module>\u001b[0;34m()\u001b[0m\n\u001b[1;32m     13\u001b[0m   \u001b[0;32mraise\u001b[0m \u001b[0mtoo_YoungException\u001b[0m\u001b[0;34m(\u001b[0m\u001b[0;34m'wait for the right time to come'\u001b[0m\u001b[0;34m)\u001b[0m\u001b[0;34m\u001b[0m\u001b[0;34m\u001b[0m\u001b[0m\n\u001b[1;32m     14\u001b[0m \u001b[0;32melif\u001b[0m \u001b[0mage\u001b[0m\u001b[0;34m<\u001b[0m\u001b[0;36m18\u001b[0m\u001b[0;34m:\u001b[0m\u001b[0;34m\u001b[0m\u001b[0;34m\u001b[0m\u001b[0m\n\u001b[0;32m---> 15\u001b[0;31m   \u001b[0;32mraise\u001b[0m \u001b[0mtoo_oldException\u001b[0m\u001b[0;34m(\u001b[0m\u001b[0;34m'You are too old to get married'\u001b[0m\u001b[0;34m)\u001b[0m\u001b[0;34m\u001b[0m\u001b[0;34m\u001b[0m\u001b[0m\n\u001b[0m\u001b[1;32m     16\u001b[0m \u001b[0;32melse\u001b[0m\u001b[0;34m:\u001b[0m\u001b[0;34m\u001b[0m\u001b[0;34m\u001b[0m\u001b[0m\n\u001b[1;32m     17\u001b[0m   \u001b[0mprint\u001b[0m\u001b[0;34m(\u001b[0m\u001b[0;34m'You will recieve an email application, Thanks.'\u001b[0m\u001b[0;34m)\u001b[0m\u001b[0;34m\u001b[0m\u001b[0;34m\u001b[0m\u001b[0m\n",
            "\u001b[0;31mtoo_oldException\u001b[0m: You are too old to get married"
          ]
        }
      ]
    }
  ]
}